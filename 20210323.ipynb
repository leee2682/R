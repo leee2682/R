{
 "cells": [
  {
   "cell_type": "code",
   "execution_count": 1,
   "id": "accompanied-functionality",
   "metadata": {},
   "outputs": [
    {
     "name": "stderr",
     "output_type": "stream",
     "text": [
      "\n",
      "Attaching package: 'dplyr'\n",
      "\n",
      "The following objects are masked from 'package:stats':\n",
      "\n",
      "    filter, lag\n",
      "\n",
      "The following objects are masked from 'package:base':\n",
      "\n",
      "    intersect, setdiff, setequal, union\n",
      "\n"
     ]
    }
   ],
   "source": [
    "library(readxl)\n",
    "library(dplyr)\n",
    "\n",
    "customer_r <- read_excel(\"customer_r.xlsx\")\n",
    "reservation_r <- read_excel(\"reservation_r.xlsx\")\n",
    "order_info_r <- read_excel(\"order_info_r.xlsx\")\n",
    "item_r <- read_excel(\"item_r.xlsx\")\n",
    "colnames(customer_r) <- tolower(colnames(customer_r))\n",
    "colnames(reservation_r) <- tolower(colnames(reservation_r))\n",
    "colnames(order_info_r) <- tolower(colnames(order_info_r))\n",
    "colnames(item_r) <- tolower(colnames(item_r))"
   ]
  },
  {
   "cell_type": "code",
   "execution_count": 2,
   "id": "solved-trace",
   "metadata": {},
   "outputs": [
    {
     "data": {
      "text/plain": [
       "      \n",
       "       JUICE PASTA PIZZA SALAD SALAD_BAR SANDWICH SEA_FOOD SPECIAL_SET STEAK\n",
       "  강남     2     4     5     2         3        2        4          13    12\n",
       "  마포     1     2     4     0         3        3        1           4     3\n",
       "  서초     1     5     2     1         2        1        0           2     5\n",
       "      \n",
       "       WINE\n",
       "  강남    5\n",
       "  마포    0\n",
       "  서초    0"
      ]
     },
     "metadata": {},
     "output_type": "display_data"
    }
   ],
   "source": [
    "# reserv_no를 키로 예약, 주문 테이블 연결\n",
    "df_f_join_1 <- inner_join(reservation_r, order_info_r, by = \"reserv_no\")\n",
    "\n",
    "# item_id를 키로 df_f_join_1, 메뉴 정보 테이블 연결\n",
    "df_f_join_2 <- inner_join(df_f_join_1, item_r, by = \"item_id\")\n",
    "\n",
    "# 주요 지점만 선택\n",
    "df_branch_items <- df_f_join_2 %>% filter(branch == \"강남\" | branch == \"마포\" | branch == \"서초\")\n",
    "\n",
    "# 교차 빈도표 생성\n",
    "table(df_branch_items$branch, df_branch_items$product_name)"
   ]
  },
  {
   "cell_type": "code",
   "execution_count": 4,
   "id": "bulgarian-group",
   "metadata": {},
   "outputs": [
    {
     "data": {
      "text/html": [
       "<table>\n",
       "<thead><tr><th scope=col>Var1</th><th scope=col>Var2</th><th scope=col>Freq</th><th scope=col>df_branch_items_table$Var1</th><th scope=col>percent_items</th></tr></thead>\n",
       "<tbody>\n",
       "\t<tr><td>강남     </td><td>JUICE    </td><td>2        </td><td>강남     </td><td> 3.846154</td></tr>\n",
       "\t<tr><td>마포     </td><td>JUICE    </td><td>1        </td><td>마포     </td><td> 4.761905</td></tr>\n",
       "\t<tr><td>서초     </td><td>JUICE    </td><td>1        </td><td>서초     </td><td> 5.263158</td></tr>\n",
       "\t<tr><td>강남     </td><td>PASTA    </td><td>4        </td><td>강남     </td><td> 7.692308</td></tr>\n",
       "\t<tr><td>마포     </td><td>PASTA    </td><td>2        </td><td>마포     </td><td> 9.523810</td></tr>\n",
       "\t<tr><td>서초     </td><td>PASTA    </td><td>5        </td><td>서초     </td><td>26.315789</td></tr>\n",
       "</tbody>\n",
       "</table>\n"
      ],
      "text/latex": [
       "\\begin{tabular}{r|lllll}\n",
       " Var1 & Var2 & Freq & df\\_branch\\_items\\_table\\$Var1 & percent\\_items\\\\\n",
       "\\hline\n",
       "\t 강남      & JUICE     & 2         & 강남      &  3.846154\\\\\n",
       "\t 마포      & JUICE     & 1         & 마포      &  4.761905\\\\\n",
       "\t 서초      & JUICE     & 1         & 서초      &  5.263158\\\\\n",
       "\t 강남      & PASTA     & 4         & 강남      &  7.692308\\\\\n",
       "\t 마포      & PASTA     & 2         & 마포      &  9.523810\\\\\n",
       "\t 서초      & PASTA     & 5         & 서초      & 26.315789\\\\\n",
       "\\end{tabular}\n"
      ],
      "text/markdown": [
       "\n",
       "| Var1 | Var2 | Freq | df_branch_items_table$Var1 | percent_items |\n",
       "|---|---|---|---|---|\n",
       "| 강남      | JUICE     | 2         | 강남      |  3.846154 |\n",
       "| 마포      | JUICE     | 1         | 마포      |  4.761905 |\n",
       "| 서초      | JUICE     | 1         | 서초      |  5.263158 |\n",
       "| 강남      | PASTA     | 4         | 강남      |  7.692308 |\n",
       "| 마포      | PASTA     | 2         | 마포      |  9.523810 |\n",
       "| 서초      | PASTA     | 5         | 서초      | 26.315789 |\n",
       "\n"
      ],
      "text/plain": [
       "  Var1 Var2  Freq df_branch_items_table$Var1 percent_items\n",
       "1 강남 JUICE 2    강남                        3.846154    \n",
       "2 마포 JUICE 1    마포                        4.761905    \n",
       "3 서초 JUICE 1    서초                        5.263158    \n",
       "4 강남 PASTA 4    강남                        7.692308    \n",
       "5 마포 PASTA 2    마포                        9.523810    \n",
       "6 서초 PASTA 5    서초                       26.315789    "
      ]
     },
     "metadata": {},
     "output_type": "display_data"
    }
   ],
   "source": [
    "# 데이터 프레임 형태로 구조형 변환\n",
    "df_branch_items_table <- as.data.frame(table(df_branch_items$branch, df_branch_items$product_name))\n",
    "\n",
    "# 데이터 분석을 위해 데이터 가공\n",
    "df_branch_items_percent <- df_branch_items_table %>%\n",
    "    group_by(df_branch_items_table$Var1) %>%\n",
    "    mutate(percent_items = Freq/sum(Freq) * 100) # 주문 비율을 계산해서 열 생성\n",
    "\n",
    "head(df_branch_items_percent)                    # percent_items 열이 생성된 것을 확인\n",
    "\n",
    "# 데이터 테이블로 변환하면 branch는 Var1, product_name은 Var2, 빈도는 Freq로 열 이름이 설정됩니다."
   ]
  },
  {
   "cell_type": "code",
   "execution_count": 9,
   "id": "innocent-provincial",
   "metadata": {},
   "outputs": [
    {
     "name": "stderr",
     "output_type": "stream",
     "text": [
      "Registered S3 methods overwritten by 'ggplot2':\n",
      "  method         from \n",
      "  [.quosures     rlang\n",
      "  c.quosures     rlang\n",
      "  print.quosures rlang\n"
     ]
    }
   ],
   "source": [
    "library(ggplot2)"
   ]
  },
  {
   "cell_type": "code",
   "execution_count": 10,
   "id": "friendly-surgeon",
   "metadata": {},
   "outputs": [
    {
     "data": {
      "image/png": "[encoded data removed]",
      "text/plain": [
       "plot without title"
      ]
     },
     "metadata": {},
     "output_type": "display_data"
    }
   ],
   "source": [
    "# 누적 막대 그래프를 그려 gg 변수에 담음\n",
    "gg <- ggplot(df_branch_items_percent, aes(x = Var1, y = percent_items, group = Var1, fill = Var2)) +\n",
    "    geom_bar(stat = \"identity\")\n",
    "\n",
    "# 제목과 범례 이름 지정\n",
    "gg <- gg +\n",
    "    labs(title = \"지점별 주문 건수 그래프\", x = \"지점\", y = \"메뉴 아이템 판매비율\", fill = \"메뉴 아이템\")\n",
    "gg"
   ]
  },
  {
   "cell_type": "code",
   "execution_count": 11,
   "id": "latter-wyoming",
   "metadata": {},
   "outputs": [
    {
     "data": {
      "text/html": [
       "<table>\n",
       "<thead><tr><th scope=col>reserv_no</th><th scope=col>reserv_date</th><th scope=col>reserv_time</th><th scope=col>customer_id</th><th scope=col>branch</th><th scope=col>visitor_cnt</th><th scope=col>cancel</th><th scope=col>order_no</th><th scope=col>item_id</th><th scope=col>quantity</th><th scope=col>sales</th></tr></thead>\n",
       "<tbody>\n",
       "\t<tr><td>2019082701        </td><td>20190827          </td><td>1800              </td><td>W1340914          </td><td>마포              </td><td>2                 </td><td>N                 </td><td>190827547272110010</td><td>M0001             </td><td>2                 </td><td> 48000            </td></tr>\n",
       "\t<tr><td>2019082602        </td><td>20190826          </td><td>1200              </td><td>W341658           </td><td>동작              </td><td>5                 </td><td>N                 </td><td>190826137302710010</td><td>M0010             </td><td>5                 </td><td> 30000            </td></tr>\n",
       "\t<tr><td>2019082601        </td><td>20190826          </td><td>1800              </td><td>W1328993          </td><td>강북              </td><td>4                 </td><td>N                 </td><td>190826137192910010</td><td>M0005             </td><td>4                 </td><td>140000            </td></tr>\n",
       "\t<tr><td>2019082501        </td><td>20190825          </td><td>1800              </td><td>W1340463          </td><td>용산              </td><td>2                 </td><td>N                 </td><td>190825107839310010</td><td>M0008             </td><td>2                 </td><td> 20000            </td></tr>\n",
       "\t<tr><td>2019082401        </td><td>20190824          </td><td>1200              </td><td>W1344912          </td><td>강동              </td><td>3                 </td><td>N                 </td><td>190824137844710010</td><td>M0006             </td><td>3                 </td><td> 75000            </td></tr>\n",
       "\t<tr><td>2019082301        </td><td>20190823          </td><td>1800              </td><td>W1344753          </td><td>영등포            </td><td>2                 </td><td>N                 </td><td>190823107844510010</td><td>M0004             </td><td>1                 </td><td> 25000            </td></tr>\n",
       "</tbody>\n",
       "</table>\n"
      ],
      "text/latex": [
       "\\begin{tabular}{r|lllllllllll}\n",
       " reserv\\_no & reserv\\_date & reserv\\_time & customer\\_id & branch & visitor\\_cnt & cancel & order\\_no & item\\_id & quantity & sales\\\\\n",
       "\\hline\n",
       "\t 2019082701         & 20190827           & 1800               & W1340914           & 마포               & 2                  & N                  & 190827547272110010 & M0001              & 2                  &  48000            \\\\\n",
       "\t 2019082602         & 20190826           & 1200               & W341658            & 동작               & 5                  & N                  & 190826137302710010 & M0010              & 5                  &  30000            \\\\\n",
       "\t 2019082601         & 20190826           & 1800               & W1328993           & 강북               & 4                  & N                  & 190826137192910010 & M0005              & 4                  & 140000            \\\\\n",
       "\t 2019082501         & 20190825           & 1800               & W1340463           & 용산               & 2                  & N                  & 190825107839310010 & M0008              & 2                  &  20000            \\\\\n",
       "\t 2019082401         & 20190824           & 1200               & W1344912           & 강동               & 3                  & N                  & 190824137844710010 & M0006              & 3                  &  75000            \\\\\n",
       "\t 2019082301         & 20190823           & 1800               & W1344753           & 영등포             & 2                  & N                  & 190823107844510010 & M0004              & 1                  &  25000            \\\\\n",
       "\\end{tabular}\n"
      ],
      "text/markdown": [
       "\n",
       "| reserv_no | reserv_date | reserv_time | customer_id | branch | visitor_cnt | cancel | order_no | item_id | quantity | sales |\n",
       "|---|---|---|---|---|---|---|---|---|---|---|\n",
       "| 2019082701         | 20190827           | 1800               | W1340914           | 마포               | 2                  | N                  | 190827547272110010 | M0001              | 2                  |  48000             |\n",
       "| 2019082602         | 20190826           | 1200               | W341658            | 동작               | 5                  | N                  | 190826137302710010 | M0010              | 5                  |  30000             |\n",
       "| 2019082601         | 20190826           | 1800               | W1328993           | 강북               | 4                  | N                  | 190826137192910010 | M0005              | 4                  | 140000             |\n",
       "| 2019082501         | 20190825           | 1800               | W1340463           | 용산               | 2                  | N                  | 190825107839310010 | M0008              | 2                  |  20000             |\n",
       "| 2019082401         | 20190824           | 1200               | W1344912           | 강동               | 3                  | N                  | 190824137844710010 | M0006              | 3                  |  75000             |\n",
       "| 2019082301         | 20190823           | 1800               | W1344753           | 영등포             | 2                  | N                  | 190823107844510010 | M0004              | 1                  |  25000             |\n",
       "\n"
      ],
      "text/plain": [
       "  reserv_no  reserv_date reserv_time customer_id branch visitor_cnt cancel\n",
       "1 2019082701 20190827    1800        W1340914    마포   2           N     \n",
       "2 2019082602 20190826    1200        W341658     동작   5           N     \n",
       "3 2019082601 20190826    1800        W1328993    강북   4           N     \n",
       "4 2019082501 20190825    1800        W1340463    용산   2           N     \n",
       "5 2019082401 20190824    1200        W1344912    강동   3           N     \n",
       "6 2019082301 20190823    1800        W1344753    영등포 2           N     \n",
       "  order_no           item_id quantity sales \n",
       "1 190827547272110010 M0001   2         48000\n",
       "2 190826137302710010 M0010   5         30000\n",
       "3 190826137192910010 M0005   4        140000\n",
       "4 190825107839310010 M0008   2         20000\n",
       "5 190824137844710010 M0006   3         75000\n",
       "6 190823107844510010 M0004   1         25000"
      ]
     },
     "metadata": {},
     "output_type": "display_data"
    }
   ],
   "source": [
    "# 테이블조인\n",
    "# reserv_no를 키로 예약, 주문 테이블 연결\n",
    "df_rfm_join_1 <- inner_join(reservation_r, order_info_r, by = \"reserv_no\")\n",
    "\n",
    "head(df_rfm_join_1)     # 조인된 테이블 확인"
   ]
  },
  {
   "cell_type": "code",
   "execution_count": 12,
   "id": "olive-activation",
   "metadata": {},
   "outputs": [
    {
     "data": {
      "text/html": [
       "<table>\n",
       "<thead><tr><th scope=col>customer_id</th><th scope=col>visit_sum</th><th scope=col>sales_sum</th></tr></thead>\n",
       "<tbody>\n",
       "\t<tr><td>W1327595</td><td>2       </td><td>188     </td></tr>\n",
       "\t<tr><td>W1327803</td><td>2       </td><td>210     </td></tr>\n",
       "\t<tr><td>W1328432</td><td>3       </td><td>246     </td></tr>\n",
       "\t<tr><td>W1328505</td><td>5       </td><td>287     </td></tr>\n",
       "\t<tr><td>W1328786</td><td>1       </td><td> 10     </td></tr>\n",
       "\t<tr><td>W1328985</td><td>2       </td><td>178     </td></tr>\n",
       "\t<tr><td>W1328993</td><td>1       </td><td>140     </td></tr>\n",
       "\t<tr><td>W1329560</td><td>1       </td><td> 24     </td></tr>\n",
       "\t<tr><td>W1329954</td><td>1       </td><td> 48     </td></tr>\n",
       "\t<tr><td>W1329962</td><td>2       </td><td> 48     </td></tr>\n",
       "\t<tr><td>W1330024</td><td>1       </td><td> 30     </td></tr>\n",
       "\t<tr><td>W1330211</td><td>1       </td><td> 54     </td></tr>\n",
       "\t<tr><td>W1330464</td><td>1       </td><td>105     </td></tr>\n",
       "\t<tr><td>W1331022</td><td>2       </td><td>158     </td></tr>\n",
       "\t<tr><td>W1331023</td><td>1       </td><td> 70     </td></tr>\n",
       "\t<tr><td>W1331028</td><td>2       </td><td> 67     </td></tr>\n",
       "\t<tr><td>W1331108</td><td>1       </td><td> 10     </td></tr>\n",
       "\t<tr><td>W1331124</td><td>4       </td><td>290     </td></tr>\n",
       "\t<tr><td>W1331302</td><td>2       </td><td>176     </td></tr>\n",
       "\t<tr><td>W1331712</td><td>1       </td><td>  6     </td></tr>\n",
       "\t<tr><td>W1332641</td><td>2       </td><td>132     </td></tr>\n",
       "\t<tr><td>W1333008</td><td>2       </td><td> 25     </td></tr>\n",
       "\t<tr><td>W1333222</td><td>5       </td><td>346     </td></tr>\n",
       "\t<tr><td>W1333818</td><td>3       </td><td>135     </td></tr>\n",
       "\t<tr><td>W1334298</td><td>1       </td><td>100     </td></tr>\n",
       "\t<tr><td>W1334299</td><td>1       </td><td>105     </td></tr>\n",
       "\t<tr><td>W1334366</td><td>5       </td><td>262     </td></tr>\n",
       "\t<tr><td>W1334489</td><td>1       </td><td> 36     </td></tr>\n",
       "\t<tr><td>W1334565</td><td>1       </td><td>126     </td></tr>\n",
       "\t<tr><td>W1335068</td><td>1       </td><td> 51     </td></tr>\n",
       "\t<tr><td>...</td><td>...</td><td>...</td></tr>\n",
       "\t<tr><td>W348551</td><td>2      </td><td> 78    </td></tr>\n",
       "\t<tr><td>W349096</td><td>1      </td><td> 50    </td></tr>\n",
       "\t<tr><td>W350149</td><td>3      </td><td>134    </td></tr>\n",
       "\t<tr><td>W350187</td><td>1      </td><td> 43    </td></tr>\n",
       "\t<tr><td>W350248</td><td>1      </td><td> 70    </td></tr>\n",
       "\t<tr><td>W350464</td><td>5      </td><td>378    </td></tr>\n",
       "\t<tr><td>W350657</td><td>1      </td><td>280    </td></tr>\n",
       "\t<tr><td>W351511</td><td>3      </td><td> 80    </td></tr>\n",
       "\t<tr><td>W351513</td><td>1      </td><td>118    </td></tr>\n",
       "\t<tr><td>W353411</td><td>1      </td><td>140    </td></tr>\n",
       "\t<tr><td>W354392</td><td>3      </td><td>142    </td></tr>\n",
       "\t<tr><td>W354554</td><td>2      </td><td> 66    </td></tr>\n",
       "\t<tr><td>W356665</td><td>2      </td><td>120    </td></tr>\n",
       "\t<tr><td>W357565</td><td>2      </td><td>612    </td></tr>\n",
       "\t<tr><td>W359004</td><td>3      </td><td>102    </td></tr>\n",
       "\t<tr><td>W359586</td><td>1      </td><td> 10    </td></tr>\n",
       "\t<tr><td>W363413</td><td>1      </td><td> 75    </td></tr>\n",
       "\t<tr><td>W363739</td><td>1      </td><td>836    </td></tr>\n",
       "\t<tr><td>W366551</td><td>1      </td><td> 82    </td></tr>\n",
       "\t<tr><td>W366641</td><td>2      </td><td>280    </td></tr>\n",
       "\t<tr><td>W367946</td><td>1      </td><td> 51    </td></tr>\n",
       "\t<tr><td>W368037</td><td>3      </td><td>210    </td></tr>\n",
       "\t<tr><td>W370526</td><td>2      </td><td> 94    </td></tr>\n",
       "\t<tr><td>W370765</td><td>1      </td><td>175    </td></tr>\n",
       "\t<tr><td>W371982</td><td>2      </td><td>312    </td></tr>\n",
       "\t<tr><td>W373103</td><td>1      </td><td> 70    </td></tr>\n",
       "\t<tr><td>W373150</td><td>1      </td><td> 20    </td></tr>\n",
       "\t<tr><td>W374992</td><td>1      </td><td> 36    </td></tr>\n",
       "\t<tr><td>W375192</td><td>4      </td><td>500    </td></tr>\n",
       "\t<tr><td>W376429</td><td>1      </td><td> 48    </td></tr>\n",
       "</tbody>\n",
       "</table>\n"
      ],
      "text/latex": [
       "\\begin{tabular}{r|lll}\n",
       " customer\\_id & visit\\_sum & sales\\_sum\\\\\n",
       "\\hline\n",
       "\t W1327595 & 2        & 188     \\\\\n",
       "\t W1327803 & 2        & 210     \\\\\n",
       "\t W1328432 & 3        & 246     \\\\\n",
       "\t W1328505 & 5        & 287     \\\\\n",
       "\t W1328786 & 1        &  10     \\\\\n",
       "\t W1328985 & 2        & 178     \\\\\n",
       "\t W1328993 & 1        & 140     \\\\\n",
       "\t W1329560 & 1        &  24     \\\\\n",
       "\t W1329954 & 1        &  48     \\\\\n",
       "\t W1329962 & 2        &  48     \\\\\n",
       "\t W1330024 & 1        &  30     \\\\\n",
       "\t W1330211 & 1        &  54     \\\\\n",
       "\t W1330464 & 1        & 105     \\\\\n",
       "\t W1331022 & 2        & 158     \\\\\n",
       "\t W1331023 & 1        &  70     \\\\\n",
       "\t W1331028 & 2        &  67     \\\\\n",
       "\t W1331108 & 1        &  10     \\\\\n",
       "\t W1331124 & 4        & 290     \\\\\n",
       "\t W1331302 & 2        & 176     \\\\\n",
       "\t W1331712 & 1        &   6     \\\\\n",
       "\t W1332641 & 2        & 132     \\\\\n",
       "\t W1333008 & 2        &  25     \\\\\n",
       "\t W1333222 & 5        & 346     \\\\\n",
       "\t W1333818 & 3        & 135     \\\\\n",
       "\t W1334298 & 1        & 100     \\\\\n",
       "\t W1334299 & 1        & 105     \\\\\n",
       "\t W1334366 & 5        & 262     \\\\\n",
       "\t W1334489 & 1        &  36     \\\\\n",
       "\t W1334565 & 1        & 126     \\\\\n",
       "\t W1335068 & 1        &  51     \\\\\n",
       "\t ... & ... & ...\\\\\n",
       "\t W348551 & 2       &  78    \\\\\n",
       "\t W349096 & 1       &  50    \\\\\n",
       "\t W350149 & 3       & 134    \\\\\n",
       "\t W350187 & 1       &  43    \\\\\n",
       "\t W350248 & 1       &  70    \\\\\n",
       "\t W350464 & 5       & 378    \\\\\n",
       "\t W350657 & 1       & 280    \\\\\n",
       "\t W351511 & 3       &  80    \\\\\n",
       "\t W351513 & 1       & 118    \\\\\n",
       "\t W353411 & 1       & 140    \\\\\n",
       "\t W354392 & 3       & 142    \\\\\n",
       "\t W354554 & 2       &  66    \\\\\n",
       "\t W356665 & 2       & 120    \\\\\n",
       "\t W357565 & 2       & 612    \\\\\n",
       "\t W359004 & 3       & 102    \\\\\n",
       "\t W359586 & 1       &  10    \\\\\n",
       "\t W363413 & 1       &  75    \\\\\n",
       "\t W363739 & 1       & 836    \\\\\n",
       "\t W366551 & 1       &  82    \\\\\n",
       "\t W366641 & 2       & 280    \\\\\n",
       "\t W367946 & 1       &  51    \\\\\n",
       "\t W368037 & 3       & 210    \\\\\n",
       "\t W370526 & 2       &  94    \\\\\n",
       "\t W370765 & 1       & 175    \\\\\n",
       "\t W371982 & 2       & 312    \\\\\n",
       "\t W373103 & 1       &  70    \\\\\n",
       "\t W373150 & 1       &  20    \\\\\n",
       "\t W374992 & 1       &  36    \\\\\n",
       "\t W375192 & 4       & 500    \\\\\n",
       "\t W376429 & 1       &  48    \\\\\n",
       "\\end{tabular}\n"
      ],
      "text/markdown": [
       "\n",
       "| customer_id | visit_sum | sales_sum |\n",
       "|---|---|---|\n",
       "| W1327595 | 2        | 188      |\n",
       "| W1327803 | 2        | 210      |\n",
       "| W1328432 | 3        | 246      |\n",
       "| W1328505 | 5        | 287      |\n",
       "| W1328786 | 1        |  10      |\n",
       "| W1328985 | 2        | 178      |\n",
       "| W1328993 | 1        | 140      |\n",
       "| W1329560 | 1        |  24      |\n",
       "| W1329954 | 1        |  48      |\n",
       "| W1329962 | 2        |  48      |\n",
       "| W1330024 | 1        |  30      |\n",
       "| W1330211 | 1        |  54      |\n",
       "| W1330464 | 1        | 105      |\n",
       "| W1331022 | 2        | 158      |\n",
       "| W1331023 | 1        |  70      |\n",
       "| W1331028 | 2        |  67      |\n",
       "| W1331108 | 1        |  10      |\n",
       "| W1331124 | 4        | 290      |\n",
       "| W1331302 | 2        | 176      |\n",
       "| W1331712 | 1        |   6      |\n",
       "| W1332641 | 2        | 132      |\n",
       "| W1333008 | 2        |  25      |\n",
       "| W1333222 | 5        | 346      |\n",
       "| W1333818 | 3        | 135      |\n",
       "| W1334298 | 1        | 100      |\n",
       "| W1334299 | 1        | 105      |\n",
       "| W1334366 | 5        | 262      |\n",
       "| W1334489 | 1        |  36      |\n",
       "| W1334565 | 1        | 126      |\n",
       "| W1335068 | 1        |  51      |\n",
       "| ... | ... | ... |\n",
       "| W348551 | 2       |  78     |\n",
       "| W349096 | 1       |  50     |\n",
       "| W350149 | 3       | 134     |\n",
       "| W350187 | 1       |  43     |\n",
       "| W350248 | 1       |  70     |\n",
       "| W350464 | 5       | 378     |\n",
       "| W350657 | 1       | 280     |\n",
       "| W351511 | 3       |  80     |\n",
       "| W351513 | 1       | 118     |\n",
       "| W353411 | 1       | 140     |\n",
       "| W354392 | 3       | 142     |\n",
       "| W354554 | 2       |  66     |\n",
       "| W356665 | 2       | 120     |\n",
       "| W357565 | 2       | 612     |\n",
       "| W359004 | 3       | 102     |\n",
       "| W359586 | 1       |  10     |\n",
       "| W363413 | 1       |  75     |\n",
       "| W363739 | 1       | 836     |\n",
       "| W366551 | 1       |  82     |\n",
       "| W366641 | 2       | 280     |\n",
       "| W367946 | 1       |  51     |\n",
       "| W368037 | 3       | 210     |\n",
       "| W370526 | 2       |  94     |\n",
       "| W370765 | 1       | 175     |\n",
       "| W371982 | 2       | 312     |\n",
       "| W373103 | 1       |  70     |\n",
       "| W373150 | 1       |  20     |\n",
       "| W374992 | 1       |  36     |\n",
       "| W375192 | 4       | 500     |\n",
       "| W376429 | 1       |  48     |\n",
       "\n"
      ],
      "text/plain": [
       "    customer_id visit_sum sales_sum\n",
       "1   W1327595    2         188      \n",
       "2   W1327803    2         210      \n",
       "3   W1328432    3         246      \n",
       "4   W1328505    5         287      \n",
       "5   W1328786    1          10      \n",
       "6   W1328985    2         178      \n",
       "7   W1328993    1         140      \n",
       "8   W1329560    1          24      \n",
       "9   W1329954    1          48      \n",
       "10  W1329962    2          48      \n",
       "11  W1330024    1          30      \n",
       "12  W1330211    1          54      \n",
       "13  W1330464    1         105      \n",
       "14  W1331022    2         158      \n",
       "15  W1331023    1          70      \n",
       "16  W1331028    2          67      \n",
       "17  W1331108    1          10      \n",
       "18  W1331124    4         290      \n",
       "19  W1331302    2         176      \n",
       "20  W1331712    1           6      \n",
       "21  W1332641    2         132      \n",
       "22  W1333008    2          25      \n",
       "23  W1333222    5         346      \n",
       "24  W1333818    3         135      \n",
       "25  W1334298    1         100      \n",
       "26  W1334299    1         105      \n",
       "27  W1334366    5         262      \n",
       "28  W1334489    1          36      \n",
       "29  W1334565    1         126      \n",
       "30  W1335068    1          51      \n",
       "... ...         ...       ...      \n",
       "141 W348551     2          78      \n",
       "142 W349096     1          50      \n",
       "143 W350149     3         134      \n",
       "144 W350187     1          43      \n",
       "145 W350248     1          70      \n",
       "146 W350464     5         378      \n",
       "147 W350657     1         280      \n",
       "148 W351511     3          80      \n",
       "149 W351513     1         118      \n",
       "150 W353411     1         140      \n",
       "151 W354392     3         142      \n",
       "152 W354554     2          66      \n",
       "153 W356665     2         120      \n",
       "154 W357565     2         612      \n",
       "155 W359004     3         102      \n",
       "156 W359586     1          10      \n",
       "157 W363413     1          75      \n",
       "158 W363739     1         836      \n",
       "159 W366551     1          82      \n",
       "160 W366641     2         280      \n",
       "161 W367946     1          51      \n",
       "162 W368037     3         210      \n",
       "163 W370526     2          94      \n",
       "164 W370765     1         175      \n",
       "165 W371982     2         312      \n",
       "166 W373103     1          70      \n",
       "167 W373150     1          20      \n",
       "168 W374992     1          36      \n",
       "169 W375192     4         500      \n",
       "170 W376429     1          48      "
      ]
     },
     "metadata": {},
     "output_type": "display_data"
    }
   ],
   "source": [
    "# 고객 번호별 방문 횟수(F)와 매출(M) 정리\n",
    "df_rfm_data <- df_rfm_join_1 %>%\n",
    "    group_by(customer_id) %>%\n",
    "    summarise(visit_sum = n_distinct(reserv_no), sales_sum = sum(sales) / 1000) %>%\n",
    "    arrange(customer_id)\n",
    "\n",
    "df_rfm_data     # 데이터 확인"
   ]
  },
  {
   "cell_type": "code",
   "execution_count": 13,
   "id": "mexican-associate",
   "metadata": {},
   "outputs": [
    {
     "data": {
      "text/plain": [
       " customer_id          visit_sum       sales_sum      \n",
       " Length:170         Min.   :1.000   Min.   :   6.00  \n",
       " Class :character   1st Qu.:1.000   1st Qu.:  40.75  \n",
       " Mode  :character   Median :1.000   Median : 100.00  \n",
       "                    Mean   :1.982   Mean   : 146.81  \n",
       "                    3rd Qu.:3.000   3rd Qu.: 192.00  \n",
       "                    Max.   :8.000   Max.   :1006.00  "
      ]
     },
     "metadata": {},
     "output_type": "display_data"
    }
   ],
   "source": [
    "summary(df_rfm_data)     # df_rfm_data 요약 통계 값 확인"
   ]
  },
  {
   "cell_type": "code",
   "execution_count": 16,
   "id": "healthy-affair",
   "metadata": {},
   "outputs": [
    {
     "data": {
      "image/png": "[encoded data removed]",
      "text/plain": [
       "plot without title"
      ]
     },
     "metadata": {},
     "output_type": "display_data"
    }
   ],
   "source": [
    "# 상자 그림 그리기\n",
    "\n",
    "ggplot(df_rfm_data, aes(x = \"\", y = visit_sum)) +\n",
    "        geom_boxplot(width = 0.8, outlier.size = 2, outlier.colour = \"red\") +\n",
    "        labs(title = \"방문 횟수 상자그림\", x = \"빈도\", y = \"방문횟수\")"
   ]
  },
  {
   "cell_type": "code",
   "execution_count": 15,
   "id": "variable-husband",
   "metadata": {
    "scrolled": true
   },
   "outputs": [
    {
     "data": {
      "image/png": "[encoded data removed]",
      "text/plain": [
       "plot without title"
      ]
     },
     "metadata": {},
     "output_type": "display_data"
    }
   ],
   "source": [
    "ggplot(df_rfm_data, aes(x = \"\", y = sales_sum)) +\n",
    "    geom_boxplot(width = 0.8, outlier.size = 2, outlier.colour = \"red\") +\n",
    "    labs(title = \"매출 상자그림\", x = \"매출\", y = \"금액\")"
   ]
  },
  {
   "cell_type": "code",
   "execution_count": 17,
   "id": "agricultural-hunger",
   "metadata": {},
   "outputs": [
    {
     "data": {
      "text/html": [
       "<dl class=dl-horizontal>\n",
       "\t<dt>60%</dt>\n",
       "\t\t<dd>2</dd>\n",
       "\t<dt>90%</dt>\n",
       "\t\t<dd>4</dd>\n",
       "</dl>\n"
      ],
      "text/latex": [
       "\\begin{description*}\n",
       "\\item[60\\textbackslash{}\\%] 2\n",
       "\\item[90\\textbackslash{}\\%] 4\n",
       "\\end{description*}\n"
      ],
      "text/markdown": [
       "60%\n",
       ":   290%\n",
       ":   4\n",
       "\n"
      ],
      "text/plain": [
       "60% 90% \n",
       "  2   4 "
      ]
     },
     "metadata": {},
     "output_type": "display_data"
    }
   ],
   "source": [
    "# 방문 횟수 60%와 90%에 해당하는 분위수 찾기\n",
    "quantile(df_rfm_data$visit_sum, probs = c(0.6, 0.9))"
   ]
  },
  {
   "cell_type": "code",
   "execution_count": 18,
   "id": "governing-upper",
   "metadata": {},
   "outputs": [
    {
     "data": {
      "text/html": [
       "<dl class=dl-horizontal>\n",
       "\t<dt>60%</dt>\n",
       "\t\t<dd>135</dd>\n",
       "\t<dt>90%</dt>\n",
       "\t\t<dd>304.1</dd>\n",
       "</dl>\n"
      ],
      "text/latex": [
       "\\begin{description*}\n",
       "\\item[60\\textbackslash{}\\%] 135\n",
       "\\item[90\\textbackslash{}\\%] 304.1\n",
       "\\end{description*}\n"
      ],
      "text/markdown": [
       "60%\n",
       ":   13590%\n",
       ":   304.1\n",
       "\n"
      ],
      "text/plain": [
       "  60%   90% \n",
       "135.0 304.1 "
      ]
     },
     "metadata": {},
     "output_type": "display_data"
    }
   ],
   "source": [
    "# 매출 60%와 90%에 해당하는 분위수 찾기\n",
    "quantile(df_rfm_data$sales_sum, probs = c(0.6, 0.9))"
   ]
  },
  {
   "cell_type": "code",
   "execution_count": 20,
   "id": "checked-plasma",
   "metadata": {},
   "outputs": [],
   "source": [
    "# 총 방문 횟수와 총 매출 합\n",
    "total_sum_data <- df_rfm_data %>%\n",
    "    summarise(t_visit_sum = sum(visit_sum), t_sales_sum = sum(sales_sum))"
   ]
  },
  {
   "cell_type": "code",
   "execution_count": 21,
   "id": "weighted-bench",
   "metadata": {},
   "outputs": [],
   "source": [
    "# 우수 고객 이상의 방문 횟수와 매출 합\n",
    "loyalty_sum_data <- df_rfm_data %>%\n",
    "    summarise(l_visit_sum = sum(ifelse(visit_sum > 2, visit_sum, 0)), l_sales_sum = sum(ifelse(sales_sum > 135, sales_sum, 0)))"
   ]
  },
  {
   "cell_type": "code",
   "execution_count": 22,
   "id": "seventh-relations",
   "metadata": {},
   "outputs": [
    {
     "data": {
      "text/html": [
       "<table>\n",
       "<thead><tr><th scope=col>l_visit_sum</th><th scope=col>l_sales_sum</th></tr></thead>\n",
       "<tbody>\n",
       "\t<tr><td>0.5163205</td><td>0.7496093</td></tr>\n",
       "</tbody>\n",
       "</table>\n"
      ],
      "text/latex": [
       "\\begin{tabular}{r|ll}\n",
       " l\\_visit\\_sum & l\\_sales\\_sum\\\\\n",
       "\\hline\n",
       "\t 0.5163205 & 0.7496093\\\\\n",
       "\\end{tabular}\n"
      ],
      "text/markdown": [
       "\n",
       "| l_visit_sum | l_sales_sum |\n",
       "|---|---|\n",
       "| 0.5163205 | 0.7496093 |\n",
       "\n"
      ],
      "text/plain": [
       "  l_visit_sum l_sales_sum\n",
       "1 0.5163205   0.7496093  "
      ]
     },
     "metadata": {},
     "output_type": "display_data"
    }
   ],
   "source": [
    "# 차지하는 비율 확인\n",
    "loyalty_sum_data / total_sum_data\n",
    "\n",
    "# 우수 등급 이상 기준인 방문 2초과이면 방문 횟수를 합합니다.\n",
    "# 우수 등급 이상 기준인 매출 135초과이면 매출을 합합니다.\n",
    "# 우수 등급 합 / 전체 등급 합"
   ]
  },
  {
   "cell_type": "code",
   "execution_count": 28,
   "id": "champion-crystal",
   "metadata": {},
   "outputs": [],
   "source": [
    "# reserv_no를 키로 예약, 주문 테이블 연결\n",
    "df_f_join_1 <- inner_join(reservation_r, order_info_r, by = \"reserv_no\")\n",
    "\n",
    "# item_id를 키로 df_f_join_1, 메뉴 정보 테이블 연결\n",
    "df_f_join_2 <- inner_join(df_f_join_1, item_r, by = \"item_id\")"
   ]
  },
  {
   "cell_type": "code",
   "execution_count": 29,
   "id": "documentary-desktop",
   "metadata": {},
   "outputs": [],
   "source": [
    "target_item <- c(\"M0005\", \"M0009\")               # 스테이크와 와인"
   ]
  },
  {
   "cell_type": "code",
   "execution_count": 32,
   "id": "agricultural-quality",
   "metadata": {},
   "outputs": [],
   "source": [
    "# 스테이크와 메뉴 아이템 동시 주문 여부 확인\n",
    "\n",
    "df_stime_order <- df_f_join_2 %>%\n",
    "                    filter((item_id %in% target_item)) %>%\n",
    "                    # 스테이크나 와인을 주문한 경우 선택\n",
    "\n",
    "                    group_by(reserv_no) %>%\n",
    "                    # 예약 번호로 그룹화\n",
    "\n",
    "                    mutate(order_cnt = n()) %>%\n",
    "                    # 그룹화된 행 세기\n",
    "\n",
    "                    distinct(branch, reserv_no, order_cnt) %>%\n",
    "                    # 중복 예약 번호는 하나만 출력\n",
    "\n",
    "                    filter(order_cnt == 2) %>%\n",
    "                    # 2인 경우 선택(스테이크와 와인을 동시 주문한 경우)\n",
    "\n",
    "                    arrange(branch)"
   ]
  },
  {
   "cell_type": "code",
   "execution_count": 33,
   "id": "applicable-textbook",
   "metadata": {},
   "outputs": [
    {
     "data": {
      "text/html": [
       "<table>\n",
       "<thead><tr><th scope=col>branch</th><th scope=col>reserv_no</th><th scope=col>order_cnt</th></tr></thead>\n",
       "<tbody>\n",
       "\t<tr><td>강남      </td><td>2019123107</td><td>2         </td></tr>\n",
       "\t<tr><td>강남      </td><td>2019122901</td><td>2         </td></tr>\n",
       "\t<tr><td>강남      </td><td>2019122801</td><td>2         </td></tr>\n",
       "\t<tr><td>강동      </td><td>2019122810</td><td>2         </td></tr>\n",
       "\t<tr><td>광진      </td><td>2019122804</td><td>2         </td></tr>\n",
       "\t<tr><td>노원      </td><td>2019112101</td><td>2         </td></tr>\n",
       "\t<tr><td>동대문    </td><td>2019091201</td><td>2         </td></tr>\n",
       "\t<tr><td>동대문    </td><td>2019122703</td><td>2         </td></tr>\n",
       "\t<tr><td>동작      </td><td>2019112102</td><td>2         </td></tr>\n",
       "\t<tr><td>양천      </td><td>2019123006</td><td>2         </td></tr>\n",
       "\t<tr><td>영등포    </td><td>2019122702</td><td>2         </td></tr>\n",
       "\t<tr><td>종로      </td><td>2019120202</td><td>2         </td></tr>\n",
       "</tbody>\n",
       "</table>\n"
      ],
      "text/latex": [
       "\\begin{tabular}{r|lll}\n",
       " branch & reserv\\_no & order\\_cnt\\\\\n",
       "\\hline\n",
       "\t 강남       & 2019123107 & 2         \\\\\n",
       "\t 강남       & 2019122901 & 2         \\\\\n",
       "\t 강남       & 2019122801 & 2         \\\\\n",
       "\t 강동       & 2019122810 & 2         \\\\\n",
       "\t 광진       & 2019122804 & 2         \\\\\n",
       "\t 노원       & 2019112101 & 2         \\\\\n",
       "\t 동대문     & 2019091201 & 2         \\\\\n",
       "\t 동대문     & 2019122703 & 2         \\\\\n",
       "\t 동작       & 2019112102 & 2         \\\\\n",
       "\t 양천       & 2019123006 & 2         \\\\\n",
       "\t 영등포     & 2019122702 & 2         \\\\\n",
       "\t 종로       & 2019120202 & 2         \\\\\n",
       "\\end{tabular}\n"
      ],
      "text/markdown": [
       "\n",
       "| branch | reserv_no | order_cnt |\n",
       "|---|---|---|\n",
       "| 강남       | 2019123107 | 2          |\n",
       "| 강남       | 2019122901 | 2          |\n",
       "| 강남       | 2019122801 | 2          |\n",
       "| 강동       | 2019122810 | 2          |\n",
       "| 광진       | 2019122804 | 2          |\n",
       "| 노원       | 2019112101 | 2          |\n",
       "| 동대문     | 2019091201 | 2          |\n",
       "| 동대문     | 2019122703 | 2          |\n",
       "| 동작       | 2019112102 | 2          |\n",
       "| 양천       | 2019123006 | 2          |\n",
       "| 영등포     | 2019122702 | 2          |\n",
       "| 종로       | 2019120202 | 2          |\n",
       "\n"
      ],
      "text/plain": [
       "   branch reserv_no  order_cnt\n",
       "1  강남   2019123107 2        \n",
       "2  강남   2019122901 2        \n",
       "3  강남   2019122801 2        \n",
       "4  강동   2019122810 2        \n",
       "5  광진   2019122804 2        \n",
       "6  노원   2019112101 2        \n",
       "7  동대문 2019091201 2        \n",
       "8  동대문 2019122703 2        \n",
       "9  동작   2019112102 2        \n",
       "10 양천   2019123006 2        \n",
       "11 영등포 2019122702 2        \n",
       "12 종로   2019120202 2        "
      ]
     },
     "metadata": {},
     "output_type": "display_data"
    }
   ],
   "source": [
    "# 동시 주문인 경우의 예약 번호 데이터셋(12건)\n",
    "df_stime_order"
   ]
  },
  {
   "cell_type": "code",
   "execution_count": 38,
   "id": "collective-artist",
   "metadata": {},
   "outputs": [],
   "source": [
    "# 동시 주문한 예약 번호만 담는 stime_order 변수 생성\n",
    "\n",
    "stime_order_rsv_no <- df_stime_order$reserv_no"
   ]
  },
  {
   "cell_type": "code",
   "execution_count": 39,
   "id": "fatal-fiber",
   "metadata": {},
   "outputs": [
    {
     "data": {
      "text/html": [
       "<ol class=list-inline>\n",
       "\t<li>'2019123107'</li>\n",
       "\t<li>'2019122901'</li>\n",
       "\t<li>'2019122801'</li>\n",
       "\t<li>'2019122810'</li>\n",
       "\t<li>'2019122804'</li>\n",
       "\t<li>'2019112101'</li>\n",
       "\t<li>'2019091201'</li>\n",
       "\t<li>'2019122703'</li>\n",
       "\t<li>'2019112102'</li>\n",
       "\t<li>'2019123006'</li>\n",
       "\t<li>'2019122702'</li>\n",
       "\t<li>'2019120202'</li>\n",
       "</ol>\n"
      ],
      "text/latex": [
       "\\begin{enumerate*}\n",
       "\\item '2019123107'\n",
       "\\item '2019122901'\n",
       "\\item '2019122801'\n",
       "\\item '2019122810'\n",
       "\\item '2019122804'\n",
       "\\item '2019112101'\n",
       "\\item '2019091201'\n",
       "\\item '2019122703'\n",
       "\\item '2019112102'\n",
       "\\item '2019123006'\n",
       "\\item '2019122702'\n",
       "\\item '2019120202'\n",
       "\\end{enumerate*}\n"
      ],
      "text/markdown": [
       "1. '2019123107'\n",
       "2. '2019122901'\n",
       "3. '2019122801'\n",
       "4. '2019122810'\n",
       "5. '2019122804'\n",
       "6. '2019112101'\n",
       "7. '2019091201'\n",
       "8. '2019122703'\n",
       "9. '2019112102'\n",
       "10. '2019123006'\n",
       "11. '2019122702'\n",
       "12. '2019120202'\n",
       "\n",
       "\n"
      ],
      "text/plain": [
       " [1] \"2019123107\" \"2019122901\" \"2019122801\" \"2019122810\" \"2019122804\"\n",
       " [6] \"2019112101\" \"2019091201\" \"2019122703\" \"2019112102\" \"2019123006\"\n",
       "[11] \"2019122702\" \"2019120202\""
      ]
     },
     "metadata": {},
     "output_type": "display_data"
    }
   ],
   "source": [
    "stime_order_rsv_no"
   ]
  },
  {
   "cell_type": "code",
   "execution_count": 35,
   "id": "distant-medline",
   "metadata": {},
   "outputs": [],
   "source": [
    "# 동시 주문 예약 번호이면서 스테이크와 와인일 경우만 선택\n",
    "\n",
    "df_stime_sales <- df_f_join_2 %>%\n",
    "                filter((reserv_no %in% stime_order_rsv_no) & (item_id %in% target_item)) %>%\n",
    "                group_by(reserv_no, product_name) %>%          # 예약 번호와 메뉴 아이템으로 그룹화\n",
    "                summarise(sales_amt = sum(sales) / 1000) %>%   # 매출 합계 요약 계산\n",
    "                arrange(product_name, reserv_no)               # 메뉴 아이템, 예약 번호 기준으로 정렬"
   ]
  },
  {
   "cell_type": "code",
   "execution_count": 36,
   "id": "hybrid-great",
   "metadata": {},
   "outputs": [
    {
     "data": {
      "text/html": [
       "<table>\n",
       "<thead><tr><th scope=col>reserv_no</th><th scope=col>product_name</th><th scope=col>sales_amt</th></tr></thead>\n",
       "<tbody>\n",
       "\t<tr><td>2019091201</td><td>STEAK     </td><td> 70       </td></tr>\n",
       "\t<tr><td>2019112101</td><td>STEAK     </td><td>280       </td></tr>\n",
       "\t<tr><td>2019112102</td><td>STEAK     </td><td>280       </td></tr>\n",
       "\t<tr><td>2019120202</td><td>STEAK     </td><td>420       </td></tr>\n",
       "\t<tr><td>2019122702</td><td>STEAK     </td><td> 70       </td></tr>\n",
       "\t<tr><td>2019122703</td><td>STEAK     </td><td> 70       </td></tr>\n",
       "\t<tr><td>2019122801</td><td>STEAK     </td><td>175       </td></tr>\n",
       "\t<tr><td>2019122804</td><td>STEAK     </td><td> 70       </td></tr>\n",
       "\t<tr><td>2019122810</td><td>STEAK     </td><td> 70       </td></tr>\n",
       "\t<tr><td>2019122901</td><td>STEAK     </td><td>140       </td></tr>\n",
       "\t<tr><td>2019123006</td><td>STEAK     </td><td> 35       </td></tr>\n",
       "\t<tr><td>2019123107</td><td>STEAK     </td><td>140       </td></tr>\n",
       "\t<tr><td>2019091201</td><td>WINE      </td><td> 16       </td></tr>\n",
       "\t<tr><td>2019112101</td><td>WINE      </td><td>128       </td></tr>\n",
       "\t<tr><td>2019112102</td><td>WINE      </td><td> 64       </td></tr>\n",
       "\t<tr><td>2019120202</td><td>WINE      </td><td>176       </td></tr>\n",
       "\t<tr><td>2019122702</td><td>WINE      </td><td> 16       </td></tr>\n",
       "\t<tr><td>2019122703</td><td>WINE      </td><td> 16       </td></tr>\n",
       "\t<tr><td>2019122801</td><td>WINE      </td><td> 40       </td></tr>\n",
       "\t<tr><td>2019122804</td><td>WINE      </td><td> 16       </td></tr>\n",
       "\t<tr><td>2019122810</td><td>WINE      </td><td> 16       </td></tr>\n",
       "\t<tr><td>2019122901</td><td>WINE      </td><td> 32       </td></tr>\n",
       "\t<tr><td>2019123006</td><td>WINE      </td><td>  8       </td></tr>\n",
       "\t<tr><td>2019123107</td><td>WINE      </td><td> 32       </td></tr>\n",
       "</tbody>\n",
       "</table>\n"
      ],
      "text/latex": [
       "\\begin{tabular}{r|lll}\n",
       " reserv\\_no & product\\_name & sales\\_amt\\\\\n",
       "\\hline\n",
       "\t 2019091201 & STEAK      &  70       \\\\\n",
       "\t 2019112101 & STEAK      & 280       \\\\\n",
       "\t 2019112102 & STEAK      & 280       \\\\\n",
       "\t 2019120202 & STEAK      & 420       \\\\\n",
       "\t 2019122702 & STEAK      &  70       \\\\\n",
       "\t 2019122703 & STEAK      &  70       \\\\\n",
       "\t 2019122801 & STEAK      & 175       \\\\\n",
       "\t 2019122804 & STEAK      &  70       \\\\\n",
       "\t 2019122810 & STEAK      &  70       \\\\\n",
       "\t 2019122901 & STEAK      & 140       \\\\\n",
       "\t 2019123006 & STEAK      &  35       \\\\\n",
       "\t 2019123107 & STEAK      & 140       \\\\\n",
       "\t 2019091201 & WINE       &  16       \\\\\n",
       "\t 2019112101 & WINE       & 128       \\\\\n",
       "\t 2019112102 & WINE       &  64       \\\\\n",
       "\t 2019120202 & WINE       & 176       \\\\\n",
       "\t 2019122702 & WINE       &  16       \\\\\n",
       "\t 2019122703 & WINE       &  16       \\\\\n",
       "\t 2019122801 & WINE       &  40       \\\\\n",
       "\t 2019122804 & WINE       &  16       \\\\\n",
       "\t 2019122810 & WINE       &  16       \\\\\n",
       "\t 2019122901 & WINE       &  32       \\\\\n",
       "\t 2019123006 & WINE       &   8       \\\\\n",
       "\t 2019123107 & WINE       &  32       \\\\\n",
       "\\end{tabular}\n"
      ],
      "text/markdown": [
       "\n",
       "| reserv_no | product_name | sales_amt |\n",
       "|---|---|---|\n",
       "| 2019091201 | STEAK      |  70        |\n",
       "| 2019112101 | STEAK      | 280        |\n",
       "| 2019112102 | STEAK      | 280        |\n",
       "| 2019120202 | STEAK      | 420        |\n",
       "| 2019122702 | STEAK      |  70        |\n",
       "| 2019122703 | STEAK      |  70        |\n",
       "| 2019122801 | STEAK      | 175        |\n",
       "| 2019122804 | STEAK      |  70        |\n",
       "| 2019122810 | STEAK      |  70        |\n",
       "| 2019122901 | STEAK      | 140        |\n",
       "| 2019123006 | STEAK      |  35        |\n",
       "| 2019123107 | STEAK      | 140        |\n",
       "| 2019091201 | WINE       |  16        |\n",
       "| 2019112101 | WINE       | 128        |\n",
       "| 2019112102 | WINE       |  64        |\n",
       "| 2019120202 | WINE       | 176        |\n",
       "| 2019122702 | WINE       |  16        |\n",
       "| 2019122703 | WINE       |  16        |\n",
       "| 2019122801 | WINE       |  40        |\n",
       "| 2019122804 | WINE       |  16        |\n",
       "| 2019122810 | WINE       |  16        |\n",
       "| 2019122901 | WINE       |  32        |\n",
       "| 2019123006 | WINE       |   8        |\n",
       "| 2019123107 | WINE       |  32        |\n",
       "\n"
      ],
      "text/plain": [
       "   reserv_no  product_name sales_amt\n",
       "1  2019091201 STEAK         70      \n",
       "2  2019112101 STEAK        280      \n",
       "3  2019112102 STEAK        280      \n",
       "4  2019120202 STEAK        420      \n",
       "5  2019122702 STEAK         70      \n",
       "6  2019122703 STEAK         70      \n",
       "7  2019122801 STEAK        175      \n",
       "8  2019122804 STEAK         70      \n",
       "9  2019122810 STEAK         70      \n",
       "10 2019122901 STEAK        140      \n",
       "11 2019123006 STEAK         35      \n",
       "12 2019123107 STEAK        140      \n",
       "13 2019091201 WINE          16      \n",
       "14 2019112101 WINE         128      \n",
       "15 2019112102 WINE          64      \n",
       "16 2019120202 WINE         176      \n",
       "17 2019122702 WINE          16      \n",
       "18 2019122703 WINE          16      \n",
       "19 2019122801 WINE          40      \n",
       "20 2019122804 WINE          16      \n",
       "21 2019122810 WINE          16      \n",
       "22 2019122901 WINE          32      \n",
       "23 2019123006 WINE           8      \n",
       "24 2019123107 WINE          32      "
      ]
     },
     "metadata": {},
     "output_type": "display_data"
    }
   ],
   "source": [
    "# 동시 주문 12건이므로 매출 합계 24개 생성(스테이크+와인)\n",
    "\n",
    "df_stime_sales"
   ]
  },
  {
   "cell_type": "code",
   "execution_count": 41,
   "id": "approved-letter",
   "metadata": {},
   "outputs": [],
   "source": [
    "steak <- df_stime_sales %>% filter(product_name == \"STEAK\") # 스테이크 정보만 담음\n",
    "wine <- df_stime_sales %>% filter(product_name == \"WINE\") # 와인 정보만 담음"
   ]
  },
  {
   "cell_type": "code",
   "execution_count": 42,
   "id": "domestic-analysis",
   "metadata": {},
   "outputs": [
    {
     "data": {
      "text/plain": [
       "\n",
       "\tPearson's product-moment correlation\n",
       "\n",
       "data:  steak$sales_amt and wine$sales_amt\n",
       "t = 9.5423, df = 10, p-value = 2.438e-06\n",
       "alternative hypothesis: true correlation is not equal to 0\n",
       "95 percent confidence interval:\n",
       " 0.8244838 0.9859970\n",
       "sample estimates:\n",
       "      cor \n",
       "0.9492339 \n"
      ]
     },
     "metadata": {},
     "output_type": "display_data"
    }
   ],
   "source": [
    "cor.test(steak$sales_amt, wine$sales_amt) # 상관관계 확인"
   ]
  },
  {
   "cell_type": "code",
   "execution_count": null,
   "id": "offshore-serum",
   "metadata": {},
   "outputs": [],
   "source": []
  }
 ],
 "metadata": {
  "kernelspec": {
   "display_name": "R",
   "language": "R",
   "name": "ir"
  },
  "language_info": {
   "codemirror_mode": "r",
   "file_extension": ".r",
   "mimetype": "text/x-r-source",
   "name": "R",
   "pygments_lexer": "r",
   "version": "3.6.1"
  }
 },
 "nbformat": 4,
 "nbformat_minor": 5
}
