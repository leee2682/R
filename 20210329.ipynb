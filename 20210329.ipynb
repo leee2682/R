{
  "nbformat": 4,
  "nbformat_minor": 5,
  "metadata": {
    "kernelspec": {
      "display_name": "R",
      "language": "R",
      "name": "ir"
    },
    "language_info": {
      "codemirror_mode": "r",
      "file_extension": ".r",
      "mimetype": "text/x-r-source",
      "name": "R",
      "pygments_lexer": "r",
      "version": "3.6.1"
    },
    "colab": {
      "name": "20210329.ipynb",
      "provenance": [],
      "include_colab_link": true
    }
  },
  "cells": [
    {
      "cell_type": "markdown",
      "metadata": {
        "id": "view-in-github",
        "colab_type": "text"
      },
      "source": [
        "<a href=\"https://colab.research.google.com/github/leee2682/R/blob/main/20210329.ipynb\" target=\"_parent\"><img src=\"https://colab.research.google.com/assets/colab-badge.svg\" alt=\"Open In Colab\"/></a>"
      ]
    },
    {
      "cell_type": "code",
      "metadata": {
        "id": "addressed-episode"
      },
      "source": [
        "library(readxl)\n",
        "library(dplyr)\n",
        "\n",
        "customer_r <- read_excel(\"customer_r.xlsx\")\n",
        "reservation_r <- read_excel(\"reservation_r.xlsx\")\n",
        "order_info_r <- read_excel(\"order_info_r.xlsx\")\n",
        "item_r <- read_excel(\"item_r.xlsx\")\n",
        "colnames(customer_r) <- tolower(colnames(customer_r))\n",
        "colnames(reservation_r) <- tolower(colnames(reservation_r))\n",
        "colnames(order_info_r) <- tolower(colnames(order_info_r))\n",
        "colnames(item_r) <- tolower(colnames(item_r))"
      ],
      "id": "addressed-episode",
      "execution_count": null,
      "outputs": []
    },
    {
      "cell_type": "code",
      "metadata": {
        "id": "interracial-casting"
      },
      "source": [
        "df_rsv_customer <- reservation_r %>%\n",
        "                    select(customer_id, reserv_no) %>%\n",
        "                    arrange(customer_id, reserv_no)"
      ],
      "id": "interracial-casting",
      "execution_count": null,
      "outputs": []
    },
    {
      "cell_type": "code",
      "metadata": {
        "id": "unusual-airplane",
        "colab": {
          "base_uri": "https://localhost:8080/",
          "height": 283
        },
        "outputId": "905a374e-6237-4d0b-8a58-3c021f951dd6"
      },
      "source": [
        "head(df_rsv_customer)"
      ],
      "id": "unusual-airplane",
      "execution_count": null,
      "outputs": [
        {
          "output_type": "display_data",
          "data": {
            "text/plain": [
              "  customer_id reserv_no \n",
              "1 W1327595    2019061801\n",
              "2 W1327595    2019071801\n",
              "3 W1327803    2019060301\n",
              "4 W1327803    2019091506\n",
              "5 W1328432    2019060601\n",
              "6 W1328432    2019060701"
            ],
            "text/latex": "A tibble: 6 × 2\n\\begin{tabular}{ll}\n customer\\_id & reserv\\_no\\\\\n <chr> & <chr>\\\\\n\\hline\n\t W1327595 & 2019061801\\\\\n\t W1327595 & 2019071801\\\\\n\t W1327803 & 2019060301\\\\\n\t W1327803 & 2019091506\\\\\n\t W1328432 & 2019060601\\\\\n\t W1328432 & 2019060701\\\\\n\\end{tabular}\n",
            "text/markdown": "\nA tibble: 6 × 2\n\n| customer_id &lt;chr&gt; | reserv_no &lt;chr&gt; |\n|---|---|\n| W1327595 | 2019061801 |\n| W1327595 | 2019071801 |\n| W1327803 | 2019060301 |\n| W1327803 | 2019091506 |\n| W1328432 | 2019060601 |\n| W1328432 | 2019060701 |\n\n",
            "text/html": [
              "<table class=\"dataframe\">\n",
              "<caption>A tibble: 6 × 2</caption>\n",
              "<thead>\n",
              "\t<tr><th scope=col>customer_id</th><th scope=col>reserv_no</th></tr>\n",
              "\t<tr><th scope=col>&lt;chr&gt;</th><th scope=col>&lt;chr&gt;</th></tr>\n",
              "</thead>\n",
              "<tbody>\n",
              "\t<tr><td>W1327595</td><td>2019061801</td></tr>\n",
              "\t<tr><td>W1327595</td><td>2019071801</td></tr>\n",
              "\t<tr><td>W1327803</td><td>2019060301</td></tr>\n",
              "\t<tr><td>W1327803</td><td>2019091506</td></tr>\n",
              "\t<tr><td>W1328432</td><td>2019060601</td></tr>\n",
              "\t<tr><td>W1328432</td><td>2019060701</td></tr>\n",
              "</tbody>\n",
              "</table>\n"
            ]
          },
          "metadata": {
            "tags": []
          }
        }
      ]
    },
    {
      "cell_type": "code",
      "metadata": {
        "id": "wanted-feature"
      },
      "source": [
        "df_steak_order_rsv_no <- order_info_r %>%\n",
        "                        filter(item_id == \"M0005\") %>%\n",
        "                        mutate(steak_order = \"Y\") %>%\n",
        "                        arrange(reserv_no)"
      ],
      "id": "wanted-feature",
      "execution_count": null,
      "outputs": []
    },
    {
      "cell_type": "code",
      "metadata": {
        "id": "laughing-boston",
        "colab": {
          "base_uri": "https://localhost:8080/",
          "height": 283
        },
        "outputId": "be49b1b9-7e1f-40b9-e958-a9fc525da838"
      },
      "source": [
        "head(df_steak_order_rsv_no)"
      ],
      "id": "laughing-boston",
      "execution_count": null,
      "outputs": [
        {
          "output_type": "display_data",
          "data": {
            "text/plain": [
              "  order_no           item_id reserv_no  quantity sales  steak_order\n",
              "1 190603578341100100 M0005   2019060301 4        140000 Y          \n",
              "2 190606607189610010 M0005   2019060601 4        140000 Y          \n",
              "3 190616137200510010 M0005   2019061601 3        105000 Y          \n",
              "4 190708517202310010 M0005   2019070801 2         70000 Y          \n",
              "5 190710578348100100 M0005   2019071002 3        105000 Y          \n",
              "6 190718107186310010 M0005   2019071801 4        140000 Y          "
            ],
            "text/latex": "A tibble: 6 × 6\n\\begin{tabular}{llllll}\n order\\_no & item\\_id & reserv\\_no & quantity & sales & steak\\_order\\\\\n <chr> & <chr> & <chr> & <dbl> & <dbl> & <chr>\\\\\n\\hline\n\t 190603578341100100 & M0005 & 2019060301 & 4 & 140000 & Y\\\\\n\t 190606607189610010 & M0005 & 2019060601 & 4 & 140000 & Y\\\\\n\t 190616137200510010 & M0005 & 2019061601 & 3 & 105000 & Y\\\\\n\t 190708517202310010 & M0005 & 2019070801 & 2 &  70000 & Y\\\\\n\t 190710578348100100 & M0005 & 2019071002 & 3 & 105000 & Y\\\\\n\t 190718107186310010 & M0005 & 2019071801 & 4 & 140000 & Y\\\\\n\\end{tabular}\n",
            "text/markdown": "\nA tibble: 6 × 6\n\n| order_no &lt;chr&gt; | item_id &lt;chr&gt; | reserv_no &lt;chr&gt; | quantity &lt;dbl&gt; | sales &lt;dbl&gt; | steak_order &lt;chr&gt; |\n|---|---|---|---|---|---|\n| 190603578341100100 | M0005 | 2019060301 | 4 | 140000 | Y |\n| 190606607189610010 | M0005 | 2019060601 | 4 | 140000 | Y |\n| 190616137200510010 | M0005 | 2019061601 | 3 | 105000 | Y |\n| 190708517202310010 | M0005 | 2019070801 | 2 |  70000 | Y |\n| 190710578348100100 | M0005 | 2019071002 | 3 | 105000 | Y |\n| 190718107186310010 | M0005 | 2019071801 | 4 | 140000 | Y |\n\n",
            "text/html": [
              "<table class=\"dataframe\">\n",
              "<caption>A tibble: 6 × 6</caption>\n",
              "<thead>\n",
              "\t<tr><th scope=col>order_no</th><th scope=col>item_id</th><th scope=col>reserv_no</th><th scope=col>quantity</th><th scope=col>sales</th><th scope=col>steak_order</th></tr>\n",
              "\t<tr><th scope=col>&lt;chr&gt;</th><th scope=col>&lt;chr&gt;</th><th scope=col>&lt;chr&gt;</th><th scope=col>&lt;dbl&gt;</th><th scope=col>&lt;dbl&gt;</th><th scope=col>&lt;chr&gt;</th></tr>\n",
              "</thead>\n",
              "<tbody>\n",
              "\t<tr><td>190603578341100100</td><td>M0005</td><td>2019060301</td><td>4</td><td>140000</td><td>Y</td></tr>\n",
              "\t<tr><td>190606607189610010</td><td>M0005</td><td>2019060601</td><td>4</td><td>140000</td><td>Y</td></tr>\n",
              "\t<tr><td>190616137200510010</td><td>M0005</td><td>2019061601</td><td>3</td><td>105000</td><td>Y</td></tr>\n",
              "\t<tr><td>190708517202310010</td><td>M0005</td><td>2019070801</td><td>2</td><td> 70000</td><td>Y</td></tr>\n",
              "\t<tr><td>190710578348100100</td><td>M0005</td><td>2019071002</td><td>3</td><td>105000</td><td>Y</td></tr>\n",
              "\t<tr><td>190718107186310010</td><td>M0005</td><td>2019071801</td><td>4</td><td>140000</td><td>Y</td></tr>\n",
              "</tbody>\n",
              "</table>\n"
            ]
          },
          "metadata": {
            "tags": []
          }
        }
      ]
    },
    {
      "cell_type": "code",
      "metadata": {
        "id": "presidential-supervision"
      },
      "source": [
        "df_steak_order_1 <- left_join(df_rsv_customer, df_steak_order_rsv_no, by = \"reserv_no\") %>%\n",
        "                    group_by(customer_id) %>%\n",
        "                    mutate(steak_order = ifelse(is.na(steak_order), \"N\", \"Y\")) %>%\n",
        "                    summarise(steak_order = max (steak_order)) %>%\n",
        "                    arrange(customer_id)"
      ],
      "id": "presidential-supervision",
      "execution_count": null,
      "outputs": []
    },
    {
      "cell_type": "code",
      "metadata": {
        "id": "amateur-boards"
      },
      "source": [
        "df_dpd_var <- df_steak_order_1"
      ],
      "id": "amateur-boards",
      "execution_count": null,
      "outputs": []
    },
    {
      "cell_type": "code",
      "metadata": {
        "id": "animated-worship",
        "colab": {
          "base_uri": "https://localhost:8080/",
          "height": 1000
        },
        "outputId": "6514deaa-1fd6-4a40-bccc-968c68ee713b"
      },
      "source": [
        "df_dpd_var"
      ],
      "id": "animated-worship",
      "execution_count": null,
      "outputs": [
        {
          "output_type": "display_data",
          "data": {
            "text/plain": [
              "    customer_id steak_order\n",
              "1   W1327595    Y          \n",
              "2   W1327803    Y          \n",
              "3   W1328432    Y          \n",
              "4   W1328505    N          \n",
              "5   W1328786    N          \n",
              "6   W1328985    Y          \n",
              "7   W1328993    Y          \n",
              "8   W1329560    N          \n",
              "9   W1329954    N          \n",
              "10  W1329962    N          \n",
              "11  W1330024    N          \n",
              "12  W1330210    N          \n",
              "13  W1330211    N          \n",
              "14  W1330463    N          \n",
              "15  W1330464    Y          \n",
              "16  W1331022    N          \n",
              "17  W1331023    Y          \n",
              "18  W1331028    N          \n",
              "19  W1331108    N          \n",
              "20  W1331124    Y          \n",
              "21  W1331302    Y          \n",
              "22  W1331712    N          \n",
              "23  W1332641    N          \n",
              "24  W1333008    N          \n",
              "25  W1333222    Y          \n",
              "26  W1333818    N          \n",
              "27  W1334298    N          \n",
              "28  W1334299    Y          \n",
              "29  W1334366    Y          \n",
              "30  W1334489    N          \n",
              "⋮   ⋮           ⋮          \n",
              "153 W350187     Y          \n",
              "154 W350248     Y          \n",
              "155 W350464     Y          \n",
              "156 W350657     Y          \n",
              "157 W351511     N          \n",
              "158 W351513     N          \n",
              "159 W353411     Y          \n",
              "160 W354392     Y          \n",
              "161 W354554     N          \n",
              "162 W355440     N          \n",
              "163 W356665     Y          \n",
              "164 W357565     N          \n",
              "165 W359004     N          \n",
              "166 W359156     N          \n",
              "167 W359586     N          \n",
              "168 W363413     N          \n",
              "169 W363739     Y          \n",
              "170 W365779     N          \n",
              "171 W366551     N          \n",
              "172 W366641     Y          \n",
              "173 W367946     N          \n",
              "174 W368037     Y          \n",
              "175 W370526     N          \n",
              "176 W370765     Y          \n",
              "177 W371982     N          \n",
              "178 W373103     Y          \n",
              "179 W373150     N          \n",
              "180 W374992     N          \n",
              "181 W375192     Y          \n",
              "182 W376429     N          "
            ],
            "text/latex": "A tibble: 182 × 2\n\\begin{tabular}{ll}\n customer\\_id & steak\\_order\\\\\n <chr> & <chr>\\\\\n\\hline\n\t W1327595 & Y\\\\\n\t W1327803 & Y\\\\\n\t W1328432 & Y\\\\\n\t W1328505 & N\\\\\n\t W1328786 & N\\\\\n\t W1328985 & Y\\\\\n\t W1328993 & Y\\\\\n\t W1329560 & N\\\\\n\t W1329954 & N\\\\\n\t W1329962 & N\\\\\n\t W1330024 & N\\\\\n\t W1330210 & N\\\\\n\t W1330211 & N\\\\\n\t W1330463 & N\\\\\n\t W1330464 & Y\\\\\n\t W1331022 & N\\\\\n\t W1331023 & Y\\\\\n\t W1331028 & N\\\\\n\t W1331108 & N\\\\\n\t W1331124 & Y\\\\\n\t W1331302 & Y\\\\\n\t W1331712 & N\\\\\n\t W1332641 & N\\\\\n\t W1333008 & N\\\\\n\t W1333222 & Y\\\\\n\t W1333818 & N\\\\\n\t W1334298 & N\\\\\n\t W1334299 & Y\\\\\n\t W1334366 & Y\\\\\n\t W1334489 & N\\\\\n\t ⋮ & ⋮\\\\\n\t W350187 & Y\\\\\n\t W350248 & Y\\\\\n\t W350464 & Y\\\\\n\t W350657 & Y\\\\\n\t W351511 & N\\\\\n\t W351513 & N\\\\\n\t W353411 & Y\\\\\n\t W354392 & Y\\\\\n\t W354554 & N\\\\\n\t W355440 & N\\\\\n\t W356665 & Y\\\\\n\t W357565 & N\\\\\n\t W359004 & N\\\\\n\t W359156 & N\\\\\n\t W359586 & N\\\\\n\t W363413 & N\\\\\n\t W363739 & Y\\\\\n\t W365779 & N\\\\\n\t W366551 & N\\\\\n\t W366641 & Y\\\\\n\t W367946 & N\\\\\n\t W368037 & Y\\\\\n\t W370526 & N\\\\\n\t W370765 & Y\\\\\n\t W371982 & N\\\\\n\t W373103 & Y\\\\\n\t W373150 & N\\\\\n\t W374992 & N\\\\\n\t W375192 & Y\\\\\n\t W376429 & N\\\\\n\\end{tabular}\n",
            "text/markdown": "\nA tibble: 182 × 2\n\n| customer_id &lt;chr&gt; | steak_order &lt;chr&gt; |\n|---|---|\n| W1327595 | Y |\n| W1327803 | Y |\n| W1328432 | Y |\n| W1328505 | N |\n| W1328786 | N |\n| W1328985 | Y |\n| W1328993 | Y |\n| W1329560 | N |\n| W1329954 | N |\n| W1329962 | N |\n| W1330024 | N |\n| W1330210 | N |\n| W1330211 | N |\n| W1330463 | N |\n| W1330464 | Y |\n| W1331022 | N |\n| W1331023 | Y |\n| W1331028 | N |\n| W1331108 | N |\n| W1331124 | Y |\n| W1331302 | Y |\n| W1331712 | N |\n| W1332641 | N |\n| W1333008 | N |\n| W1333222 | Y |\n| W1333818 | N |\n| W1334298 | N |\n| W1334299 | Y |\n| W1334366 | Y |\n| W1334489 | N |\n| ⋮ | ⋮ |\n| W350187 | Y |\n| W350248 | Y |\n| W350464 | Y |\n| W350657 | Y |\n| W351511 | N |\n| W351513 | N |\n| W353411 | Y |\n| W354392 | Y |\n| W354554 | N |\n| W355440 | N |\n| W356665 | Y |\n| W357565 | N |\n| W359004 | N |\n| W359156 | N |\n| W359586 | N |\n| W363413 | N |\n| W363739 | Y |\n| W365779 | N |\n| W366551 | N |\n| W366641 | Y |\n| W367946 | N |\n| W368037 | Y |\n| W370526 | N |\n| W370765 | Y |\n| W371982 | N |\n| W373103 | Y |\n| W373150 | N |\n| W374992 | N |\n| W375192 | Y |\n| W376429 | N |\n\n",
            "text/html": [
              "<table class=\"dataframe\">\n",
              "<caption>A tibble: 182 × 2</caption>\n",
              "<thead>\n",
              "\t<tr><th scope=col>customer_id</th><th scope=col>steak_order</th></tr>\n",
              "\t<tr><th scope=col>&lt;chr&gt;</th><th scope=col>&lt;chr&gt;</th></tr>\n",
              "</thead>\n",
              "<tbody>\n",
              "\t<tr><td>W1327595</td><td>Y</td></tr>\n",
              "\t<tr><td>W1327803</td><td>Y</td></tr>\n",
              "\t<tr><td>W1328432</td><td>Y</td></tr>\n",
              "\t<tr><td>W1328505</td><td>N</td></tr>\n",
              "\t<tr><td>W1328786</td><td>N</td></tr>\n",
              "\t<tr><td>W1328985</td><td>Y</td></tr>\n",
              "\t<tr><td>W1328993</td><td>Y</td></tr>\n",
              "\t<tr><td>W1329560</td><td>N</td></tr>\n",
              "\t<tr><td>W1329954</td><td>N</td></tr>\n",
              "\t<tr><td>W1329962</td><td>N</td></tr>\n",
              "\t<tr><td>W1330024</td><td>N</td></tr>\n",
              "\t<tr><td>W1330210</td><td>N</td></tr>\n",
              "\t<tr><td>W1330211</td><td>N</td></tr>\n",
              "\t<tr><td>W1330463</td><td>N</td></tr>\n",
              "\t<tr><td>W1330464</td><td>Y</td></tr>\n",
              "\t<tr><td>W1331022</td><td>N</td></tr>\n",
              "\t<tr><td>W1331023</td><td>Y</td></tr>\n",
              "\t<tr><td>W1331028</td><td>N</td></tr>\n",
              "\t<tr><td>W1331108</td><td>N</td></tr>\n",
              "\t<tr><td>W1331124</td><td>Y</td></tr>\n",
              "\t<tr><td>W1331302</td><td>Y</td></tr>\n",
              "\t<tr><td>W1331712</td><td>N</td></tr>\n",
              "\t<tr><td>W1332641</td><td>N</td></tr>\n",
              "\t<tr><td>W1333008</td><td>N</td></tr>\n",
              "\t<tr><td>W1333222</td><td>Y</td></tr>\n",
              "\t<tr><td>W1333818</td><td>N</td></tr>\n",
              "\t<tr><td>W1334298</td><td>N</td></tr>\n",
              "\t<tr><td>W1334299</td><td>Y</td></tr>\n",
              "\t<tr><td>W1334366</td><td>Y</td></tr>\n",
              "\t<tr><td>W1334489</td><td>N</td></tr>\n",
              "\t<tr><td>⋮</td><td>⋮</td></tr>\n",
              "\t<tr><td>W350187</td><td>Y</td></tr>\n",
              "\t<tr><td>W350248</td><td>Y</td></tr>\n",
              "\t<tr><td>W350464</td><td>Y</td></tr>\n",
              "\t<tr><td>W350657</td><td>Y</td></tr>\n",
              "\t<tr><td>W351511</td><td>N</td></tr>\n",
              "\t<tr><td>W351513</td><td>N</td></tr>\n",
              "\t<tr><td>W353411</td><td>Y</td></tr>\n",
              "\t<tr><td>W354392</td><td>Y</td></tr>\n",
              "\t<tr><td>W354554</td><td>N</td></tr>\n",
              "\t<tr><td>W355440</td><td>N</td></tr>\n",
              "\t<tr><td>W356665</td><td>Y</td></tr>\n",
              "\t<tr><td>W357565</td><td>N</td></tr>\n",
              "\t<tr><td>W359004</td><td>N</td></tr>\n",
              "\t<tr><td>W359156</td><td>N</td></tr>\n",
              "\t<tr><td>W359586</td><td>N</td></tr>\n",
              "\t<tr><td>W363413</td><td>N</td></tr>\n",
              "\t<tr><td>W363739</td><td>Y</td></tr>\n",
              "\t<tr><td>W365779</td><td>N</td></tr>\n",
              "\t<tr><td>W366551</td><td>N</td></tr>\n",
              "\t<tr><td>W366641</td><td>Y</td></tr>\n",
              "\t<tr><td>W367946</td><td>N</td></tr>\n",
              "\t<tr><td>W368037</td><td>Y</td></tr>\n",
              "\t<tr><td>W370526</td><td>N</td></tr>\n",
              "\t<tr><td>W370765</td><td>Y</td></tr>\n",
              "\t<tr><td>W371982</td><td>N</td></tr>\n",
              "\t<tr><td>W373103</td><td>Y</td></tr>\n",
              "\t<tr><td>W373150</td><td>N</td></tr>\n",
              "\t<tr><td>W374992</td><td>N</td></tr>\n",
              "\t<tr><td>W375192</td><td>Y</td></tr>\n",
              "\t<tr><td>W376429</td><td>N</td></tr>\n",
              "</tbody>\n",
              "</table>\n"
            ]
          },
          "metadata": {
            "tags": []
          }
        }
      ]
    },
    {
      "cell_type": "code",
      "metadata": {
        "id": "innovative-diagnosis"
      },
      "source": [
        "df_customer <- customer_r %>% filter(!is.na(sex_code))"
      ],
      "id": "innovative-diagnosis",
      "execution_count": null,
      "outputs": []
    },
    {
      "cell_type": "code",
      "metadata": {
        "id": "asian-indiana"
      },
      "source": [
        "df_table_join_1 <- inner_join(df_customer, reservation_r, by = \"customer_id\")"
      ],
      "id": "asian-indiana",
      "execution_count": null,
      "outputs": []
    },
    {
      "cell_type": "code",
      "metadata": {
        "id": "cordless-gallery",
        "colab": {
          "base_uri": "https://localhost:8080/"
        },
        "outputId": "f7fe54d2-1d93-4c3a-f9b7-aa4d1b0ba080"
      },
      "source": [
        "df_table_join_2 <- inner_join(df_table_join_1, order_info_r, by = \"reserv_no\")\n",
        "\n",
        "str(df_table_join_2)"
      ],
      "id": "cordless-gallery",
      "execution_count": null,
      "outputs": [
        {
          "output_type": "stream",
          "text": [
            "tibble [322 × 19] (S3: tbl_df/tbl/data.frame)\n",
            " $ customer_id   : chr [1:322] \"W1346506\" \"W1347648\" \"W1347756\" \"W1347984\" ...\n",
            " $ customer_name : chr [1:322] \"고객71\" \"고객72\" \"고객73\" \"고객74\" ...\n",
            " $ phone_number  : chr [1:322] \"010-1111-1181\" \"010-1111-1182\" \"010-1111-1183\" \"010-1111-1184\" ...\n",
            " $ email         : chr [1:322] \"scust71@sfnb.co.kr\" \"scust72@sfnb.co.kr\" \"scust73@sfnb.co.kr\" \"scust74@sfnb.co.kr\" ...\n",
            " $ first_reg_date: chr [1:322] \"19/09/01\" \"19/09/04\" \"19/09/05\" \"19/09/06\" ...\n",
            " $ sex_code      : chr [1:322] \"F\" \"M\" \"M\" \"M\" ...\n",
            " $ birth         : chr [1:322] \"19820922\" \"19940812\" \"19931217\" \"19810822\" ...\n",
            " $ job           : chr [1:322] \"자영업\" \"학생\" NA \"자영업\" ...\n",
            " $ zip_code      : chr [1:322] \"122100\" \"140100\" \"152100\" \"130100\" ...\n",
            " $ reserv_no     : chr [1:322] \"2019102002\" \"2019092301\" \"2019111301\" \"2019120201\" ...\n",
            " $ reserv_date   : chr [1:322] \"20191020\" \"20190923\" \"20191113\" \"20191202\" ...\n",
            " $ reserv_time   : chr [1:322] \"1800\" \"1800\" \"1200\" \"1200\" ...\n",
            " $ branch        : chr [1:322] \"중구\" \"강남\" \"중구\" \"송파\" ...\n",
            " $ visitor_cnt   : num [1:322] 2 1 2 3 2 2 2 2 1 2 ...\n",
            " $ cancel        : chr [1:322] \"N\" \"N\" \"N\" \"N\" ...\n",
            " $ order_no      : chr [1:322] \"191020573101100100\" \"190923567847010020\" \"191113607314510010\" \"191202107316910010\" ...\n",
            " $ item_id       : chr [1:322] \"M0002\" \"M0001\" \"M0003\" \"M0010\" ...\n",
            " $ quantity      : num [1:322] 2 1 2 3 2 2 1 1 1 2 ...\n",
            " $ sales         : num [1:322] 24000 24000 34000 18000 70000 70000 17000 17000 10000 24000 ...\n"
          ],
          "name": "stdout"
        }
      ]
    },
    {
      "cell_type": "code",
      "metadata": {
        "id": "decimal-manufacturer",
        "colab": {
          "base_uri": "https://localhost:8080/"
        },
        "outputId": "74e3176d-5adc-47e0-9806-d47135a46386"
      },
      "source": [
        "df_table_join_3 <- df_table_join_2 %>%\n",
        "    group_by(customer_id, sex_code, reserv_no, visitor_cnt) %>%\n",
        "    summarise(sales_sum = sum(sales)) %>%\n",
        "    group_by(customer_id, sex_code) %>%\n",
        "    summarise(visit_sum = n_distinct(reserv_no), visitor_sum = sum(visitor_cnt), sales_sum = sum(sales_sum) / 1000) %>%\n",
        "    arrange(customer_id)"
      ],
      "id": "decimal-manufacturer",
      "execution_count": null,
      "outputs": [
        {
          "output_type": "stream",
          "text": [
            "`summarise()` has grouped output by 'customer_id', 'sex_code', 'reserv_no'. You can override using the `.groups` argument.\n",
            "\n",
            "`summarise()` has grouped output by 'customer_id'. You can override using the `.groups` argument.\n",
            "\n"
          ],
          "name": "stderr"
        }
      ]
    },
    {
      "cell_type": "code",
      "metadata": {
        "id": "political-robertson"
      },
      "source": [
        "df_idp_var <- df_table_join_3"
      ],
      "id": "political-robertson",
      "execution_count": null,
      "outputs": []
    },
    {
      "cell_type": "code",
      "metadata": {
        "id": "oriented-calendar",
        "colab": {
          "base_uri": "https://localhost:8080/",
          "height": 1000
        },
        "outputId": "50014436-72b1-4011-ab05-817a7f32c7bd"
      },
      "source": [
        "df_idp_var"
      ],
      "id": "oriented-calendar",
      "execution_count": null,
      "outputs": [
        {
          "output_type": "display_data",
          "data": {
            "text/plain": [
              "    customer_id sex_code visit_sum visitor_sum sales_sum\n",
              "1   W1327595    M        2          6          188      \n",
              "2   W1327803    M        2          6          210      \n",
              "3   W1328432    M        3         12          246      \n",
              "4   W1328505    F        5         15          287      \n",
              "5   W1328786    M        1          1           10      \n",
              "6   W1328985    M        2          6          178      \n",
              "7   W1328993    F        1          4          140      \n",
              "8   W1329560    M        1          2           24      \n",
              "9   W1329954    M        1          2           48      \n",
              "10  W1329962    M        2          4           48      \n",
              "11  W1330024    M        1          3           30      \n",
              "12  W1330211    M        1          4           54      \n",
              "13  W1330464    F        1          3          105      \n",
              "14  W1331022    M        2          7          158      \n",
              "15  W1331023    M        1          2           70      \n",
              "16  W1331028    F        2          4           67      \n",
              "17  W1331108    F        1          1           10      \n",
              "18  W1331124    M        4         10          290      \n",
              "19  W1331302    M        2          7          176      \n",
              "20  W1331712    M        1          1            6      \n",
              "21  W1332641    M        2          7          132      \n",
              "22  W1333008    M        2          3           25      \n",
              "23  W1333222    M        5         19          346      \n",
              "24  W1333818    M        3          9          135      \n",
              "25  W1334298    F        1          4          100      \n",
              "26  W1334299    M        1          3          105      \n",
              "27  W1334366    M        5         10          262      \n",
              "28  W1334489    M        1          3           36      \n",
              "29  W1334565    M        1          7          126      \n",
              "30  W1335068    F        1          3           51      \n",
              "⋮   ⋮           ⋮        ⋮         ⋮           ⋮        \n",
              "113 W1376941    F        1          4          140      \n",
              "114 W1377607    M        1          3           30      \n",
              "115 W1379344    F        1          4          140      \n",
              "116 W329803     M        2          5          129      \n",
              "117 W331726     F        1          2           70      \n",
              "118 W335138     M        1          4           24      \n",
              "119 W335276     M        1          7           75      \n",
              "120 W336341     F        1          1           10      \n",
              "121 W339492     F        1          3           36      \n",
              "122 W343269     M        1          2           16      \n",
              "123 W344324     M        3         17          239      \n",
              "124 W345397     F        3          6          110      \n",
              "125 W345737     F        2          8          205      \n",
              "126 W346987     F        1          9          216      \n",
              "127 W348130     M        1          2           40      \n",
              "128 W348551     F        2         14           78      \n",
              "129 W349096     F        1          3           50      \n",
              "130 W350187     F        1          1           43      \n",
              "131 W350657     M        1          8          280      \n",
              "132 W351511     F        3          8           80      \n",
              "133 W359586     F        1          1           10      \n",
              "134 W366551     F        1          6           82      \n",
              "135 W366641     F        2          8          280      \n",
              "136 W367946     M        1          8           51      \n",
              "137 W368037     M        3         13          210      \n",
              "138 W370526     F        2          5           94      \n",
              "139 W370765     F        1          5          175      \n",
              "140 W373103     M        1          2           70      \n",
              "141 W373150     M        1          2           20      \n",
              "142 W376429     M        1          2           48      "
            ],
            "text/latex": "A grouped\\_df: 142 × 5\n\\begin{tabular}{lllll}\n customer\\_id & sex\\_code & visit\\_sum & visitor\\_sum & sales\\_sum\\\\\n <chr> & <chr> & <int> & <dbl> & <dbl>\\\\\n\\hline\n\t W1327595 & M & 2 &  6 & 188\\\\\n\t W1327803 & M & 2 &  6 & 210\\\\\n\t W1328432 & M & 3 & 12 & 246\\\\\n\t W1328505 & F & 5 & 15 & 287\\\\\n\t W1328786 & M & 1 &  1 &  10\\\\\n\t W1328985 & M & 2 &  6 & 178\\\\\n\t W1328993 & F & 1 &  4 & 140\\\\\n\t W1329560 & M & 1 &  2 &  24\\\\\n\t W1329954 & M & 1 &  2 &  48\\\\\n\t W1329962 & M & 2 &  4 &  48\\\\\n\t W1330024 & M & 1 &  3 &  30\\\\\n\t W1330211 & M & 1 &  4 &  54\\\\\n\t W1330464 & F & 1 &  3 & 105\\\\\n\t W1331022 & M & 2 &  7 & 158\\\\\n\t W1331023 & M & 1 &  2 &  70\\\\\n\t W1331028 & F & 2 &  4 &  67\\\\\n\t W1331108 & F & 1 &  1 &  10\\\\\n\t W1331124 & M & 4 & 10 & 290\\\\\n\t W1331302 & M & 2 &  7 & 176\\\\\n\t W1331712 & M & 1 &  1 &   6\\\\\n\t W1332641 & M & 2 &  7 & 132\\\\\n\t W1333008 & M & 2 &  3 &  25\\\\\n\t W1333222 & M & 5 & 19 & 346\\\\\n\t W1333818 & M & 3 &  9 & 135\\\\\n\t W1334298 & F & 1 &  4 & 100\\\\\n\t W1334299 & M & 1 &  3 & 105\\\\\n\t W1334366 & M & 5 & 10 & 262\\\\\n\t W1334489 & M & 1 &  3 &  36\\\\\n\t W1334565 & M & 1 &  7 & 126\\\\\n\t W1335068 & F & 1 &  3 &  51\\\\\n\t ⋮ & ⋮ & ⋮ & ⋮ & ⋮\\\\\n\t W1376941 & F & 1 &  4 & 140\\\\\n\t W1377607 & M & 1 &  3 &  30\\\\\n\t W1379344 & F & 1 &  4 & 140\\\\\n\t W329803  & M & 2 &  5 & 129\\\\\n\t W331726  & F & 1 &  2 &  70\\\\\n\t W335138  & M & 1 &  4 &  24\\\\\n\t W335276  & M & 1 &  7 &  75\\\\\n\t W336341  & F & 1 &  1 &  10\\\\\n\t W339492  & F & 1 &  3 &  36\\\\\n\t W343269  & M & 1 &  2 &  16\\\\\n\t W344324  & M & 3 & 17 & 239\\\\\n\t W345397  & F & 3 &  6 & 110\\\\\n\t W345737  & F & 2 &  8 & 205\\\\\n\t W346987  & F & 1 &  9 & 216\\\\\n\t W348130  & M & 1 &  2 &  40\\\\\n\t W348551  & F & 2 & 14 &  78\\\\\n\t W349096  & F & 1 &  3 &  50\\\\\n\t W350187  & F & 1 &  1 &  43\\\\\n\t W350657  & M & 1 &  8 & 280\\\\\n\t W351511  & F & 3 &  8 &  80\\\\\n\t W359586  & F & 1 &  1 &  10\\\\\n\t W366551  & F & 1 &  6 &  82\\\\\n\t W366641  & F & 2 &  8 & 280\\\\\n\t W367946  & M & 1 &  8 &  51\\\\\n\t W368037  & M & 3 & 13 & 210\\\\\n\t W370526  & F & 2 &  5 &  94\\\\\n\t W370765  & F & 1 &  5 & 175\\\\\n\t W373103  & M & 1 &  2 &  70\\\\\n\t W373150  & M & 1 &  2 &  20\\\\\n\t W376429  & M & 1 &  2 &  48\\\\\n\\end{tabular}\n",
            "text/markdown": "\nA grouped_df: 142 × 5\n\n| customer_id &lt;chr&gt; | sex_code &lt;chr&gt; | visit_sum &lt;int&gt; | visitor_sum &lt;dbl&gt; | sales_sum &lt;dbl&gt; |\n|---|---|---|---|---|\n| W1327595 | M | 2 |  6 | 188 |\n| W1327803 | M | 2 |  6 | 210 |\n| W1328432 | M | 3 | 12 | 246 |\n| W1328505 | F | 5 | 15 | 287 |\n| W1328786 | M | 1 |  1 |  10 |\n| W1328985 | M | 2 |  6 | 178 |\n| W1328993 | F | 1 |  4 | 140 |\n| W1329560 | M | 1 |  2 |  24 |\n| W1329954 | M | 1 |  2 |  48 |\n| W1329962 | M | 2 |  4 |  48 |\n| W1330024 | M | 1 |  3 |  30 |\n| W1330211 | M | 1 |  4 |  54 |\n| W1330464 | F | 1 |  3 | 105 |\n| W1331022 | M | 2 |  7 | 158 |\n| W1331023 | M | 1 |  2 |  70 |\n| W1331028 | F | 2 |  4 |  67 |\n| W1331108 | F | 1 |  1 |  10 |\n| W1331124 | M | 4 | 10 | 290 |\n| W1331302 | M | 2 |  7 | 176 |\n| W1331712 | M | 1 |  1 |   6 |\n| W1332641 | M | 2 |  7 | 132 |\n| W1333008 | M | 2 |  3 |  25 |\n| W1333222 | M | 5 | 19 | 346 |\n| W1333818 | M | 3 |  9 | 135 |\n| W1334298 | F | 1 |  4 | 100 |\n| W1334299 | M | 1 |  3 | 105 |\n| W1334366 | M | 5 | 10 | 262 |\n| W1334489 | M | 1 |  3 |  36 |\n| W1334565 | M | 1 |  7 | 126 |\n| W1335068 | F | 1 |  3 |  51 |\n| ⋮ | ⋮ | ⋮ | ⋮ | ⋮ |\n| W1376941 | F | 1 |  4 | 140 |\n| W1377607 | M | 1 |  3 |  30 |\n| W1379344 | F | 1 |  4 | 140 |\n| W329803  | M | 2 |  5 | 129 |\n| W331726  | F | 1 |  2 |  70 |\n| W335138  | M | 1 |  4 |  24 |\n| W335276  | M | 1 |  7 |  75 |\n| W336341  | F | 1 |  1 |  10 |\n| W339492  | F | 1 |  3 |  36 |\n| W343269  | M | 1 |  2 |  16 |\n| W344324  | M | 3 | 17 | 239 |\n| W345397  | F | 3 |  6 | 110 |\n| W345737  | F | 2 |  8 | 205 |\n| W346987  | F | 1 |  9 | 216 |\n| W348130  | M | 1 |  2 |  40 |\n| W348551  | F | 2 | 14 |  78 |\n| W349096  | F | 1 |  3 |  50 |\n| W350187  | F | 1 |  1 |  43 |\n| W350657  | M | 1 |  8 | 280 |\n| W351511  | F | 3 |  8 |  80 |\n| W359586  | F | 1 |  1 |  10 |\n| W366551  | F | 1 |  6 |  82 |\n| W366641  | F | 2 |  8 | 280 |\n| W367946  | M | 1 |  8 |  51 |\n| W368037  | M | 3 | 13 | 210 |\n| W370526  | F | 2 |  5 |  94 |\n| W370765  | F | 1 |  5 | 175 |\n| W373103  | M | 1 |  2 |  70 |\n| W373150  | M | 1 |  2 |  20 |\n| W376429  | M | 1 |  2 |  48 |\n\n",
            "text/html": [
              "<table class=\"dataframe\">\n",
              "<caption>A grouped_df: 142 × 5</caption>\n",
              "<thead>\n",
              "\t<tr><th scope=col>customer_id</th><th scope=col>sex_code</th><th scope=col>visit_sum</th><th scope=col>visitor_sum</th><th scope=col>sales_sum</th></tr>\n",
              "\t<tr><th scope=col>&lt;chr&gt;</th><th scope=col>&lt;chr&gt;</th><th scope=col>&lt;int&gt;</th><th scope=col>&lt;dbl&gt;</th><th scope=col>&lt;dbl&gt;</th></tr>\n",
              "</thead>\n",
              "<tbody>\n",
              "\t<tr><td>W1327595</td><td>M</td><td>2</td><td> 6</td><td>188</td></tr>\n",
              "\t<tr><td>W1327803</td><td>M</td><td>2</td><td> 6</td><td>210</td></tr>\n",
              "\t<tr><td>W1328432</td><td>M</td><td>3</td><td>12</td><td>246</td></tr>\n",
              "\t<tr><td>W1328505</td><td>F</td><td>5</td><td>15</td><td>287</td></tr>\n",
              "\t<tr><td>W1328786</td><td>M</td><td>1</td><td> 1</td><td> 10</td></tr>\n",
              "\t<tr><td>W1328985</td><td>M</td><td>2</td><td> 6</td><td>178</td></tr>\n",
              "\t<tr><td>W1328993</td><td>F</td><td>1</td><td> 4</td><td>140</td></tr>\n",
              "\t<tr><td>W1329560</td><td>M</td><td>1</td><td> 2</td><td> 24</td></tr>\n",
              "\t<tr><td>W1329954</td><td>M</td><td>1</td><td> 2</td><td> 48</td></tr>\n",
              "\t<tr><td>W1329962</td><td>M</td><td>2</td><td> 4</td><td> 48</td></tr>\n",
              "\t<tr><td>W1330024</td><td>M</td><td>1</td><td> 3</td><td> 30</td></tr>\n",
              "\t<tr><td>W1330211</td><td>M</td><td>1</td><td> 4</td><td> 54</td></tr>\n",
              "\t<tr><td>W1330464</td><td>F</td><td>1</td><td> 3</td><td>105</td></tr>\n",
              "\t<tr><td>W1331022</td><td>M</td><td>2</td><td> 7</td><td>158</td></tr>\n",
              "\t<tr><td>W1331023</td><td>M</td><td>1</td><td> 2</td><td> 70</td></tr>\n",
              "\t<tr><td>W1331028</td><td>F</td><td>2</td><td> 4</td><td> 67</td></tr>\n",
              "\t<tr><td>W1331108</td><td>F</td><td>1</td><td> 1</td><td> 10</td></tr>\n",
              "\t<tr><td>W1331124</td><td>M</td><td>4</td><td>10</td><td>290</td></tr>\n",
              "\t<tr><td>W1331302</td><td>M</td><td>2</td><td> 7</td><td>176</td></tr>\n",
              "\t<tr><td>W1331712</td><td>M</td><td>1</td><td> 1</td><td>  6</td></tr>\n",
              "\t<tr><td>W1332641</td><td>M</td><td>2</td><td> 7</td><td>132</td></tr>\n",
              "\t<tr><td>W1333008</td><td>M</td><td>2</td><td> 3</td><td> 25</td></tr>\n",
              "\t<tr><td>W1333222</td><td>M</td><td>5</td><td>19</td><td>346</td></tr>\n",
              "\t<tr><td>W1333818</td><td>M</td><td>3</td><td> 9</td><td>135</td></tr>\n",
              "\t<tr><td>W1334298</td><td>F</td><td>1</td><td> 4</td><td>100</td></tr>\n",
              "\t<tr><td>W1334299</td><td>M</td><td>1</td><td> 3</td><td>105</td></tr>\n",
              "\t<tr><td>W1334366</td><td>M</td><td>5</td><td>10</td><td>262</td></tr>\n",
              "\t<tr><td>W1334489</td><td>M</td><td>1</td><td> 3</td><td> 36</td></tr>\n",
              "\t<tr><td>W1334565</td><td>M</td><td>1</td><td> 7</td><td>126</td></tr>\n",
              "\t<tr><td>W1335068</td><td>F</td><td>1</td><td> 3</td><td> 51</td></tr>\n",
              "\t<tr><td>⋮</td><td>⋮</td><td>⋮</td><td>⋮</td><td>⋮</td></tr>\n",
              "\t<tr><td>W1376941</td><td>F</td><td>1</td><td> 4</td><td>140</td></tr>\n",
              "\t<tr><td>W1377607</td><td>M</td><td>1</td><td> 3</td><td> 30</td></tr>\n",
              "\t<tr><td>W1379344</td><td>F</td><td>1</td><td> 4</td><td>140</td></tr>\n",
              "\t<tr><td>W329803 </td><td>M</td><td>2</td><td> 5</td><td>129</td></tr>\n",
              "\t<tr><td>W331726 </td><td>F</td><td>1</td><td> 2</td><td> 70</td></tr>\n",
              "\t<tr><td>W335138 </td><td>M</td><td>1</td><td> 4</td><td> 24</td></tr>\n",
              "\t<tr><td>W335276 </td><td>M</td><td>1</td><td> 7</td><td> 75</td></tr>\n",
              "\t<tr><td>W336341 </td><td>F</td><td>1</td><td> 1</td><td> 10</td></tr>\n",
              "\t<tr><td>W339492 </td><td>F</td><td>1</td><td> 3</td><td> 36</td></tr>\n",
              "\t<tr><td>W343269 </td><td>M</td><td>1</td><td> 2</td><td> 16</td></tr>\n",
              "\t<tr><td>W344324 </td><td>M</td><td>3</td><td>17</td><td>239</td></tr>\n",
              "\t<tr><td>W345397 </td><td>F</td><td>3</td><td> 6</td><td>110</td></tr>\n",
              "\t<tr><td>W345737 </td><td>F</td><td>2</td><td> 8</td><td>205</td></tr>\n",
              "\t<tr><td>W346987 </td><td>F</td><td>1</td><td> 9</td><td>216</td></tr>\n",
              "\t<tr><td>W348130 </td><td>M</td><td>1</td><td> 2</td><td> 40</td></tr>\n",
              "\t<tr><td>W348551 </td><td>F</td><td>2</td><td>14</td><td> 78</td></tr>\n",
              "\t<tr><td>W349096 </td><td>F</td><td>1</td><td> 3</td><td> 50</td></tr>\n",
              "\t<tr><td>W350187 </td><td>F</td><td>1</td><td> 1</td><td> 43</td></tr>\n",
              "\t<tr><td>W350657 </td><td>M</td><td>1</td><td> 8</td><td>280</td></tr>\n",
              "\t<tr><td>W351511 </td><td>F</td><td>3</td><td> 8</td><td> 80</td></tr>\n",
              "\t<tr><td>W359586 </td><td>F</td><td>1</td><td> 1</td><td> 10</td></tr>\n",
              "\t<tr><td>W366551 </td><td>F</td><td>1</td><td> 6</td><td> 82</td></tr>\n",
              "\t<tr><td>W366641 </td><td>F</td><td>2</td><td> 8</td><td>280</td></tr>\n",
              "\t<tr><td>W367946 </td><td>M</td><td>1</td><td> 8</td><td> 51</td></tr>\n",
              "\t<tr><td>W368037 </td><td>M</td><td>3</td><td>13</td><td>210</td></tr>\n",
              "\t<tr><td>W370526 </td><td>F</td><td>2</td><td> 5</td><td> 94</td></tr>\n",
              "\t<tr><td>W370765 </td><td>F</td><td>1</td><td> 5</td><td>175</td></tr>\n",
              "\t<tr><td>W373103 </td><td>M</td><td>1</td><td> 2</td><td> 70</td></tr>\n",
              "\t<tr><td>W373150 </td><td>M</td><td>1</td><td> 2</td><td> 20</td></tr>\n",
              "\t<tr><td>W376429 </td><td>M</td><td>1</td><td> 2</td><td> 48</td></tr>\n",
              "</tbody>\n",
              "</table>\n"
            ]
          },
          "metadata": {
            "tags": []
          }
        }
      ]
    },
    {
      "cell_type": "code",
      "metadata": {
        "id": "differential-polyester"
      },
      "source": [
        "df_final_data <- inner_join(df_idp_var, df_dpd_var, by = \"customer_id\")"
      ],
      "id": "differential-polyester",
      "execution_count": null,
      "outputs": []
    },
    {
      "cell_type": "code",
      "metadata": {
        "id": "dietary-marker"
      },
      "source": [
        "df_final_data$sex_code <- as.factor(df_final_data$sex_code)\n",
        "df_final_data$steak_order <- as.factor(df_final_data$steak_order)"
      ],
      "id": "dietary-marker",
      "execution_count": null,
      "outputs": []
    },
    {
      "cell_type": "code",
      "metadata": {
        "id": "sexual-stylus"
      },
      "source": [
        "df_final_data <- df_final_data[, c(2:6)]"
      ],
      "id": "sexual-stylus",
      "execution_count": null,
      "outputs": []
    },
    {
      "cell_type": "code",
      "metadata": {
        "colab": {
          "base_uri": "https://localhost:8080/",
          "height": 1000
        },
        "id": "compliant-store",
        "outputId": "af238c84-8e49-49bf-a19f-632a79567caa"
      },
      "source": [
        "df_final_data"
      ],
      "id": "compliant-store",
      "execution_count": null,
      "outputs": [
        {
          "output_type": "display_data",
          "data": {
            "text/plain": [
              "    sex_code visit_sum visitor_sum sales_sum steak_order\n",
              "1   M        2          6          188       Y          \n",
              "2   M        2          6          210       Y          \n",
              "3   M        3         12          246       Y          \n",
              "4   F        5         15          287       N          \n",
              "5   M        1          1           10       N          \n",
              "6   M        2          6          178       Y          \n",
              "7   F        1          4          140       Y          \n",
              "8   M        1          2           24       N          \n",
              "9   M        1          2           48       N          \n",
              "10  M        2          4           48       N          \n",
              "11  M        1          3           30       N          \n",
              "12  M        1          4           54       N          \n",
              "13  F        1          3          105       Y          \n",
              "14  M        2          7          158       N          \n",
              "15  M        1          2           70       Y          \n",
              "16  F        2          4           67       N          \n",
              "17  F        1          1           10       N          \n",
              "18  M        4         10          290       Y          \n",
              "19  M        2          7          176       Y          \n",
              "20  M        1          1            6       N          \n",
              "21  M        2          7          132       N          \n",
              "22  M        2          3           25       N          \n",
              "23  M        5         19          346       Y          \n",
              "24  M        3          9          135       N          \n",
              "25  F        1          4          100       N          \n",
              "26  M        1          3          105       Y          \n",
              "27  M        5         10          262       Y          \n",
              "28  M        1          3           36       N          \n",
              "29  M        1          7          126       N          \n",
              "30  F        1          3           51       N          \n",
              "⋮   ⋮        ⋮         ⋮           ⋮         ⋮          \n",
              "113 F        1          4          140       Y          \n",
              "114 M        1          3           30       N          \n",
              "115 F        1          4          140       Y          \n",
              "116 M        2          5          129       Y          \n",
              "117 F        1          2           70       Y          \n",
              "118 M        1          4           24       N          \n",
              "119 M        1          7           75       N          \n",
              "120 F        1          1           10       N          \n",
              "121 F        1          3           36       N          \n",
              "122 M        1          2           16       N          \n",
              "123 M        3         17          239       Y          \n",
              "124 F        3          6          110       N          \n",
              "125 F        2          8          205       Y          \n",
              "126 F        1          9          216       N          \n",
              "127 M        1          2           40       N          \n",
              "128 F        2         14           78       N          \n",
              "129 F        1          3           50       N          \n",
              "130 F        1          1           43       Y          \n",
              "131 M        1          8          280       Y          \n",
              "132 F        3          8           80       N          \n",
              "133 F        1          1           10       N          \n",
              "134 F        1          6           82       N          \n",
              "135 F        2          8          280       Y          \n",
              "136 M        1          8           51       N          \n",
              "137 M        3         13          210       Y          \n",
              "138 F        2          5           94       N          \n",
              "139 F        1          5          175       Y          \n",
              "140 M        1          2           70       Y          \n",
              "141 M        1          2           20       N          \n",
              "142 M        1          2           48       N          "
            ],
            "text/latex": "A tibble: 142 × 5\n\\begin{tabular}{lllll}\n sex\\_code & visit\\_sum & visitor\\_sum & sales\\_sum & steak\\_order\\\\\n <fct> & <int> & <dbl> & <dbl> & <fct>\\\\\n\\hline\n\t M & 2 &  6 & 188 & Y\\\\\n\t M & 2 &  6 & 210 & Y\\\\\n\t M & 3 & 12 & 246 & Y\\\\\n\t F & 5 & 15 & 287 & N\\\\\n\t M & 1 &  1 &  10 & N\\\\\n\t M & 2 &  6 & 178 & Y\\\\\n\t F & 1 &  4 & 140 & Y\\\\\n\t M & 1 &  2 &  24 & N\\\\\n\t M & 1 &  2 &  48 & N\\\\\n\t M & 2 &  4 &  48 & N\\\\\n\t M & 1 &  3 &  30 & N\\\\\n\t M & 1 &  4 &  54 & N\\\\\n\t F & 1 &  3 & 105 & Y\\\\\n\t M & 2 &  7 & 158 & N\\\\\n\t M & 1 &  2 &  70 & Y\\\\\n\t F & 2 &  4 &  67 & N\\\\\n\t F & 1 &  1 &  10 & N\\\\\n\t M & 4 & 10 & 290 & Y\\\\\n\t M & 2 &  7 & 176 & Y\\\\\n\t M & 1 &  1 &   6 & N\\\\\n\t M & 2 &  7 & 132 & N\\\\\n\t M & 2 &  3 &  25 & N\\\\\n\t M & 5 & 19 & 346 & Y\\\\\n\t M & 3 &  9 & 135 & N\\\\\n\t F & 1 &  4 & 100 & N\\\\\n\t M & 1 &  3 & 105 & Y\\\\\n\t M & 5 & 10 & 262 & Y\\\\\n\t M & 1 &  3 &  36 & N\\\\\n\t M & 1 &  7 & 126 & N\\\\\n\t F & 1 &  3 &  51 & N\\\\\n\t ⋮ & ⋮ & ⋮ & ⋮ & ⋮\\\\\n\t F & 1 &  4 & 140 & Y\\\\\n\t M & 1 &  3 &  30 & N\\\\\n\t F & 1 &  4 & 140 & Y\\\\\n\t M & 2 &  5 & 129 & Y\\\\\n\t F & 1 &  2 &  70 & Y\\\\\n\t M & 1 &  4 &  24 & N\\\\\n\t M & 1 &  7 &  75 & N\\\\\n\t F & 1 &  1 &  10 & N\\\\\n\t F & 1 &  3 &  36 & N\\\\\n\t M & 1 &  2 &  16 & N\\\\\n\t M & 3 & 17 & 239 & Y\\\\\n\t F & 3 &  6 & 110 & N\\\\\n\t F & 2 &  8 & 205 & Y\\\\\n\t F & 1 &  9 & 216 & N\\\\\n\t M & 1 &  2 &  40 & N\\\\\n\t F & 2 & 14 &  78 & N\\\\\n\t F & 1 &  3 &  50 & N\\\\\n\t F & 1 &  1 &  43 & Y\\\\\n\t M & 1 &  8 & 280 & Y\\\\\n\t F & 3 &  8 &  80 & N\\\\\n\t F & 1 &  1 &  10 & N\\\\\n\t F & 1 &  6 &  82 & N\\\\\n\t F & 2 &  8 & 280 & Y\\\\\n\t M & 1 &  8 &  51 & N\\\\\n\t M & 3 & 13 & 210 & Y\\\\\n\t F & 2 &  5 &  94 & N\\\\\n\t F & 1 &  5 & 175 & Y\\\\\n\t M & 1 &  2 &  70 & Y\\\\\n\t M & 1 &  2 &  20 & N\\\\\n\t M & 1 &  2 &  48 & N\\\\\n\\end{tabular}\n",
            "text/markdown": "\nA tibble: 142 × 5\n\n| sex_code &lt;fct&gt; | visit_sum &lt;int&gt; | visitor_sum &lt;dbl&gt; | sales_sum &lt;dbl&gt; | steak_order &lt;fct&gt; |\n|---|---|---|---|---|\n| M | 2 |  6 | 188 | Y |\n| M | 2 |  6 | 210 | Y |\n| M | 3 | 12 | 246 | Y |\n| F | 5 | 15 | 287 | N |\n| M | 1 |  1 |  10 | N |\n| M | 2 |  6 | 178 | Y |\n| F | 1 |  4 | 140 | Y |\n| M | 1 |  2 |  24 | N |\n| M | 1 |  2 |  48 | N |\n| M | 2 |  4 |  48 | N |\n| M | 1 |  3 |  30 | N |\n| M | 1 |  4 |  54 | N |\n| F | 1 |  3 | 105 | Y |\n| M | 2 |  7 | 158 | N |\n| M | 1 |  2 |  70 | Y |\n| F | 2 |  4 |  67 | N |\n| F | 1 |  1 |  10 | N |\n| M | 4 | 10 | 290 | Y |\n| M | 2 |  7 | 176 | Y |\n| M | 1 |  1 |   6 | N |\n| M | 2 |  7 | 132 | N |\n| M | 2 |  3 |  25 | N |\n| M | 5 | 19 | 346 | Y |\n| M | 3 |  9 | 135 | N |\n| F | 1 |  4 | 100 | N |\n| M | 1 |  3 | 105 | Y |\n| M | 5 | 10 | 262 | Y |\n| M | 1 |  3 |  36 | N |\n| M | 1 |  7 | 126 | N |\n| F | 1 |  3 |  51 | N |\n| ⋮ | ⋮ | ⋮ | ⋮ | ⋮ |\n| F | 1 |  4 | 140 | Y |\n| M | 1 |  3 |  30 | N |\n| F | 1 |  4 | 140 | Y |\n| M | 2 |  5 | 129 | Y |\n| F | 1 |  2 |  70 | Y |\n| M | 1 |  4 |  24 | N |\n| M | 1 |  7 |  75 | N |\n| F | 1 |  1 |  10 | N |\n| F | 1 |  3 |  36 | N |\n| M | 1 |  2 |  16 | N |\n| M | 3 | 17 | 239 | Y |\n| F | 3 |  6 | 110 | N |\n| F | 2 |  8 | 205 | Y |\n| F | 1 |  9 | 216 | N |\n| M | 1 |  2 |  40 | N |\n| F | 2 | 14 |  78 | N |\n| F | 1 |  3 |  50 | N |\n| F | 1 |  1 |  43 | Y |\n| M | 1 |  8 | 280 | Y |\n| F | 3 |  8 |  80 | N |\n| F | 1 |  1 |  10 | N |\n| F | 1 |  6 |  82 | N |\n| F | 2 |  8 | 280 | Y |\n| M | 1 |  8 |  51 | N |\n| M | 3 | 13 | 210 | Y |\n| F | 2 |  5 |  94 | N |\n| F | 1 |  5 | 175 | Y |\n| M | 1 |  2 |  70 | Y |\n| M | 1 |  2 |  20 | N |\n| M | 1 |  2 |  48 | N |\n\n",
            "text/html": [
              "<table class=\"dataframe\">\n",
              "<caption>A tibble: 142 × 5</caption>\n",
              "<thead>\n",
              "\t<tr><th scope=col>sex_code</th><th scope=col>visit_sum</th><th scope=col>visitor_sum</th><th scope=col>sales_sum</th><th scope=col>steak_order</th></tr>\n",
              "\t<tr><th scope=col>&lt;fct&gt;</th><th scope=col>&lt;int&gt;</th><th scope=col>&lt;dbl&gt;</th><th scope=col>&lt;dbl&gt;</th><th scope=col>&lt;fct&gt;</th></tr>\n",
              "</thead>\n",
              "<tbody>\n",
              "\t<tr><td>M</td><td>2</td><td> 6</td><td>188</td><td>Y</td></tr>\n",
              "\t<tr><td>M</td><td>2</td><td> 6</td><td>210</td><td>Y</td></tr>\n",
              "\t<tr><td>M</td><td>3</td><td>12</td><td>246</td><td>Y</td></tr>\n",
              "\t<tr><td>F</td><td>5</td><td>15</td><td>287</td><td>N</td></tr>\n",
              "\t<tr><td>M</td><td>1</td><td> 1</td><td> 10</td><td>N</td></tr>\n",
              "\t<tr><td>M</td><td>2</td><td> 6</td><td>178</td><td>Y</td></tr>\n",
              "\t<tr><td>F</td><td>1</td><td> 4</td><td>140</td><td>Y</td></tr>\n",
              "\t<tr><td>M</td><td>1</td><td> 2</td><td> 24</td><td>N</td></tr>\n",
              "\t<tr><td>M</td><td>1</td><td> 2</td><td> 48</td><td>N</td></tr>\n",
              "\t<tr><td>M</td><td>2</td><td> 4</td><td> 48</td><td>N</td></tr>\n",
              "\t<tr><td>M</td><td>1</td><td> 3</td><td> 30</td><td>N</td></tr>\n",
              "\t<tr><td>M</td><td>1</td><td> 4</td><td> 54</td><td>N</td></tr>\n",
              "\t<tr><td>F</td><td>1</td><td> 3</td><td>105</td><td>Y</td></tr>\n",
              "\t<tr><td>M</td><td>2</td><td> 7</td><td>158</td><td>N</td></tr>\n",
              "\t<tr><td>M</td><td>1</td><td> 2</td><td> 70</td><td>Y</td></tr>\n",
              "\t<tr><td>F</td><td>2</td><td> 4</td><td> 67</td><td>N</td></tr>\n",
              "\t<tr><td>F</td><td>1</td><td> 1</td><td> 10</td><td>N</td></tr>\n",
              "\t<tr><td>M</td><td>4</td><td>10</td><td>290</td><td>Y</td></tr>\n",
              "\t<tr><td>M</td><td>2</td><td> 7</td><td>176</td><td>Y</td></tr>\n",
              "\t<tr><td>M</td><td>1</td><td> 1</td><td>  6</td><td>N</td></tr>\n",
              "\t<tr><td>M</td><td>2</td><td> 7</td><td>132</td><td>N</td></tr>\n",
              "\t<tr><td>M</td><td>2</td><td> 3</td><td> 25</td><td>N</td></tr>\n",
              "\t<tr><td>M</td><td>5</td><td>19</td><td>346</td><td>Y</td></tr>\n",
              "\t<tr><td>M</td><td>3</td><td> 9</td><td>135</td><td>N</td></tr>\n",
              "\t<tr><td>F</td><td>1</td><td> 4</td><td>100</td><td>N</td></tr>\n",
              "\t<tr><td>M</td><td>1</td><td> 3</td><td>105</td><td>Y</td></tr>\n",
              "\t<tr><td>M</td><td>5</td><td>10</td><td>262</td><td>Y</td></tr>\n",
              "\t<tr><td>M</td><td>1</td><td> 3</td><td> 36</td><td>N</td></tr>\n",
              "\t<tr><td>M</td><td>1</td><td> 7</td><td>126</td><td>N</td></tr>\n",
              "\t<tr><td>F</td><td>1</td><td> 3</td><td> 51</td><td>N</td></tr>\n",
              "\t<tr><td>⋮</td><td>⋮</td><td>⋮</td><td>⋮</td><td>⋮</td></tr>\n",
              "\t<tr><td>F</td><td>1</td><td> 4</td><td>140</td><td>Y</td></tr>\n",
              "\t<tr><td>M</td><td>1</td><td> 3</td><td> 30</td><td>N</td></tr>\n",
              "\t<tr><td>F</td><td>1</td><td> 4</td><td>140</td><td>Y</td></tr>\n",
              "\t<tr><td>M</td><td>2</td><td> 5</td><td>129</td><td>Y</td></tr>\n",
              "\t<tr><td>F</td><td>1</td><td> 2</td><td> 70</td><td>Y</td></tr>\n",
              "\t<tr><td>M</td><td>1</td><td> 4</td><td> 24</td><td>N</td></tr>\n",
              "\t<tr><td>M</td><td>1</td><td> 7</td><td> 75</td><td>N</td></tr>\n",
              "\t<tr><td>F</td><td>1</td><td> 1</td><td> 10</td><td>N</td></tr>\n",
              "\t<tr><td>F</td><td>1</td><td> 3</td><td> 36</td><td>N</td></tr>\n",
              "\t<tr><td>M</td><td>1</td><td> 2</td><td> 16</td><td>N</td></tr>\n",
              "\t<tr><td>M</td><td>3</td><td>17</td><td>239</td><td>Y</td></tr>\n",
              "\t<tr><td>F</td><td>3</td><td> 6</td><td>110</td><td>N</td></tr>\n",
              "\t<tr><td>F</td><td>2</td><td> 8</td><td>205</td><td>Y</td></tr>\n",
              "\t<tr><td>F</td><td>1</td><td> 9</td><td>216</td><td>N</td></tr>\n",
              "\t<tr><td>M</td><td>1</td><td> 2</td><td> 40</td><td>N</td></tr>\n",
              "\t<tr><td>F</td><td>2</td><td>14</td><td> 78</td><td>N</td></tr>\n",
              "\t<tr><td>F</td><td>1</td><td> 3</td><td> 50</td><td>N</td></tr>\n",
              "\t<tr><td>F</td><td>1</td><td> 1</td><td> 43</td><td>Y</td></tr>\n",
              "\t<tr><td>M</td><td>1</td><td> 8</td><td>280</td><td>Y</td></tr>\n",
              "\t<tr><td>F</td><td>3</td><td> 8</td><td> 80</td><td>N</td></tr>\n",
              "\t<tr><td>F</td><td>1</td><td> 1</td><td> 10</td><td>N</td></tr>\n",
              "\t<tr><td>F</td><td>1</td><td> 6</td><td> 82</td><td>N</td></tr>\n",
              "\t<tr><td>F</td><td>2</td><td> 8</td><td>280</td><td>Y</td></tr>\n",
              "\t<tr><td>M</td><td>1</td><td> 8</td><td> 51</td><td>N</td></tr>\n",
              "\t<tr><td>M</td><td>3</td><td>13</td><td>210</td><td>Y</td></tr>\n",
              "\t<tr><td>F</td><td>2</td><td> 5</td><td> 94</td><td>N</td></tr>\n",
              "\t<tr><td>F</td><td>1</td><td> 5</td><td>175</td><td>Y</td></tr>\n",
              "\t<tr><td>M</td><td>1</td><td> 2</td><td> 70</td><td>Y</td></tr>\n",
              "\t<tr><td>M</td><td>1</td><td> 2</td><td> 20</td><td>N</td></tr>\n",
              "\t<tr><td>M</td><td>1</td><td> 2</td><td> 48</td><td>N</td></tr>\n",
              "</tbody>\n",
              "</table>\n"
            ]
          },
          "metadata": {
            "tags": []
          }
        }
      ]
    },
    {
      "cell_type": "code",
      "metadata": {
        "colab": {
          "base_uri": "https://localhost:8080/"
        },
        "id": "biological-denial",
        "outputId": "305e68d9-d6fa-4af4-c2b4-b5a15da0db0a"
      },
      "source": [
        "install.packages(\"rpart\")   # rpart 패키지 설치\n",
        "install.packages(\"caret\")   # caret 패키지 설치\n",
        "install.packages(\"e1071\")   # 패키지 설치"
      ],
      "id": "biological-denial",
      "execution_count": null,
      "outputs": [
        {
          "output_type": "stream",
          "text": [
            "Installing package into ‘/usr/local/lib/R/site-library’\n",
            "(as ‘lib’ is unspecified)\n",
            "\n",
            "Warning message in install.packages(\"rpart\"):\n",
            "“installation of package ‘rpart’ had non-zero exit status”\n",
            "Installing package into ‘/usr/local/lib/R/site-library’\n",
            "(as ‘lib’ is unspecified)\n",
            "\n",
            "Warning message in install.packages(\"caret\"):\n",
            "“installation of package ‘caret’ had non-zero exit status”\n",
            "Installing package into ‘/usr/local/lib/R/site-library’\n",
            "(as ‘lib’ is unspecified)\n",
            "\n"
          ],
          "name": "stderr"
        }
      ]
    },
    {
      "cell_type": "code",
      "metadata": {
        "id": "responsible-samba"
      },
      "source": [
        "library(rpart)\n",
        "library(caret)\n",
        "library(e1071)"
      ],
      "id": "responsible-samba",
      "execution_count": null,
      "outputs": []
    },
    {
      "cell_type": "code",
      "metadata": {
        "id": "neural-enzyme"
      },
      "source": [
        "set.seed(10000)"
      ],
      "id": "neural-enzyme",
      "execution_count": null,
      "outputs": []
    },
    {
      "cell_type": "code",
      "metadata": {
        "id": "interpreted-insulation"
      },
      "source": [
        "train_data <- createDataPartition(y = df_final_data$steak_order, p = 0.8, list = FALSE)\n",
        "train <- df_final_data[train_data, ]\n",
        "test <- df_final_data[-train_data, ]"
      ],
      "id": "interpreted-insulation",
      "execution_count": null,
      "outputs": []
    },
    {
      "cell_type": "code",
      "metadata": {
        "id": "changed-carol"
      },
      "source": [
        "decision_tree <- rpart(steak_order~., data = train)"
      ],
      "id": "changed-carol",
      "execution_count": null,
      "outputs": []
    },
    {
      "cell_type": "code",
      "metadata": {
        "colab": {
          "base_uri": "https://localhost:8080/",
          "height": 269
        },
        "id": "F2-ohOJ47x9z",
        "outputId": "9c845cb8-b418-497e-e565-2d2bcac504eb"
      },
      "source": [
        "decision_tree"
      ],
      "id": "F2-ohOJ47x9z",
      "execution_count": null,
      "outputs": [
        {
          "output_type": "display_data",
          "data": {
            "text/plain": [
              "n= 115 \n",
              "\n",
              "node), split, n, loss, yval, (yprob)\n",
              "      * denotes terminal node\n",
              "\n",
              " 1) root 115 44 N (0.61739130 0.38260870)  \n",
              "   2) sales_sum< 55.5 37  2 N (0.94594595 0.05405405) *\n",
              "   3) sales_sum>=55.5 78 36 Y (0.46153846 0.53846154)  \n",
              "     6) sales_sum< 173 45 18 N (0.60000000 0.40000000)  \n",
              "      12) visitor_sum>=5.5 19  1 N (0.94736842 0.05263158) *\n",
              "      13) visitor_sum< 5.5 26  9 Y (0.34615385 0.65384615) *\n",
              "     7) sales_sum>=173 33  9 Y (0.27272727 0.72727273)  \n",
              "      14) visit_sum< 1.5 9  4 N (0.55555556 0.44444444) *\n",
              "      15) visit_sum>=1.5 24  4 Y (0.16666667 0.83333333) *"
            ]
          },
          "metadata": {
            "tags": []
          }
        }
      ]
    },
    {
      "cell_type": "code",
      "metadata": {
        "colab": {
          "base_uri": "https://localhost:8080/",
          "height": 503
        },
        "id": "rXM7XNlm7y1R",
        "outputId": "a07b302e-bcae-4741-e7d5-9e6a3aceebd8"
      },
      "source": [
        "predicted <- predict(decision_tree, test, type = 'class')\n",
        "              confusionMatrix(predicted, test$steak_order)"
      ],
      "id": "rXM7XNlm7y1R",
      "execution_count": null,
      "outputs": [
        {
          "output_type": "display_data",
          "data": {
            "text/plain": [
              "Confusion Matrix and Statistics\n",
              "\n",
              "          Reference\n",
              "Prediction  N  Y\n",
              "         N 14  1\n",
              "         Y  3  9\n",
              "                                          \n",
              "               Accuracy : 0.8519          \n",
              "                 95% CI : (0.6627, 0.9581)\n",
              "    No Information Rate : 0.6296          \n",
              "    P-Value [Acc > NIR] : 0.01066         \n",
              "                                          \n",
              "                  Kappa : 0.6949          \n",
              "                                          \n",
              " Mcnemar's Test P-Value : 0.61708         \n",
              "                                          \n",
              "            Sensitivity : 0.8235          \n",
              "            Specificity : 0.9000          \n",
              "         Pos Pred Value : 0.9333          \n",
              "         Neg Pred Value : 0.7500          \n",
              "             Prevalence : 0.6296          \n",
              "         Detection Rate : 0.5185          \n",
              "   Detection Prevalence : 0.5556          \n",
              "      Balanced Accuracy : 0.8618          \n",
              "                                          \n",
              "       'Positive' Class : N               \n",
              "                                          "
            ]
          },
          "metadata": {
            "tags": []
          }
        }
      ]
    },
    {
      "cell_type": "code",
      "metadata": {
        "colab": {
          "base_uri": "https://localhost:8080/",
          "height": 437
        },
        "id": "WjTlxwCS7239",
        "outputId": "045206f3-b05c-49e7-e9df-dc45411ec501"
      },
      "source": [
        "plot(decision_tree, margin = 0.1)\n",
        "text(decision_tree)"
      ],
      "id": "WjTlxwCS7239",
      "execution_count": null,
      "outputs": [
        {
          "output_type": "display_data",
          "data": {
            "image/png": "[encoded data removed]",
            "text/plain": [
              "plot without title"
            ]
          },
          "metadata": {
            "tags": [],
            "image/png": {
              "width": 420,
              "height": 420
            }
          }
        }
      ]
    },
    {
      "cell_type": "code",
      "metadata": {
        "colab": {
          "base_uri": "https://localhost:8080/"
        },
        "id": "nX3jDpWx76L-",
        "outputId": "05e2e72a-8402-4007-e72a-3b84221287d9"
      },
      "source": [
        "install.packages(\"rattle\")"
      ],
      "id": "nX3jDpWx76L-",
      "execution_count": null,
      "outputs": [
        {
          "output_type": "stream",
          "text": [
            "Installing package into ‘/usr/local/lib/R/site-library’\n",
            "(as ‘lib’ is unspecified)\n",
            "\n",
            "also installing the dependencies ‘bitops’, ‘XML’, ‘rpart.plot’\n",
            "\n",
            "\n"
          ],
          "name": "stderr"
        }
      ]
    },
    {
      "cell_type": "code",
      "metadata": {
        "colab": {
          "base_uri": "https://localhost:8080/"
        },
        "id": "CUhJrciJ778-",
        "outputId": "affe3415-e5bd-46b2-a16a-732033dc5e87"
      },
      "source": [
        "library(rattle)"
      ],
      "id": "CUhJrciJ778-",
      "execution_count": null,
      "outputs": [
        {
          "output_type": "stream",
          "text": [
            "Loading required package: tibble\n",
            "\n",
            "Loading required package: bitops\n",
            "\n",
            "Rattle: A free graphical interface for data science with R.\n",
            "Version 5.4.0 Copyright (c) 2006-2020 Togaware Pty Ltd.\n",
            "Type 'rattle()' to shake, rattle, and roll your data.\n",
            "\n"
          ],
          "name": "stderr"
        }
      ]
    },
    {
      "cell_type": "code",
      "metadata": {
        "id": "tDewMFGQ8H9L",
        "colab": {
          "base_uri": "https://localhost:8080/",
          "height": 437
        },
        "outputId": "844dffcf-8dc2-4dac-fa24-ac8a68afd772"
      },
      "source": [
        "fancyRpartPlot(decision_tree)"
      ],
      "id": "tDewMFGQ8H9L",
      "execution_count": null,
      "outputs": [
        {
          "output_type": "display_data",
          "data": {
            "image/png": "[encoded data removed]",
            "text/plain": [
              "Plot with title “”"
            ]
          },
          "metadata": {
            "tags": [],
            "image/png": {
              "width": 420,
              "height": 420
            }
          }
        }
      ]
    },
    {
      "cell_type": "code",
      "metadata": {
        "id": "v0TFiKoI8ItZ"
      },
      "source": [
        ""
      ],
      "id": "v0TFiKoI8ItZ",
      "execution_count": null,
      "outputs": []
    }
  ]
}